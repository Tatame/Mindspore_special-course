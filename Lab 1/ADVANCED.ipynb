{
 "cells": [
  {
   "cell_type": "markdown",
   "id": "cd1f4244",
   "metadata": {},
   "source": [
    "# Advanced Encapsulation: Model"
   ]
  },
  {
   "cell_type": "code",
   "execution_count": 1,
   "id": "65b30d47",
   "metadata": {},
   "outputs": [],
   "source": [
    "import mindspore\n",
    "from mindspore import nn\n",
    "from mindspore.dataset import vision, transforms\n",
    "from mindspore.dataset import MnistDataset\n",
    "from mindspore.train import Model, CheckpointConfig, ModelCheckpoint, LossMonitor"
   ]
  },
  {
   "cell_type": "code",
   "execution_count": 2,
   "id": "af4b0e5f",
   "metadata": {},
   "outputs": [],
   "source": [
    "def datapipe(path, batch_size):\n",
    "    image_transforms = [\n",
    "        vision.Rescale(1.0 / 255.0, 0),\n",
    "        vision.Normalize(mean=(0.1307,), std=(0.3081,)),\n",
    "        vision.HWC2CHW()\n",
    "    ]\n",
    "    label_transform = transforms.TypeCast(mindspore.int32)\n",
    "\n",
    "    dataset = MnistDataset(path)\n",
    "    dataset = dataset.map(image_transforms, 'image')\n",
    "    dataset = dataset.map(label_transform, 'label')\n",
    "    dataset = dataset.batch(batch_size)\n",
    "    return dataset\n",
    "\n",
    "# Define model\n",
    "class Network(nn.Cell):\n",
    "    def __init__(self):\n",
    "        super().__init__()\n",
    "        self.flatten = nn.Flatten()\n",
    "        self.dense_relu_sequential = nn.SequentialCell(\n",
    "            nn.Dense(28*28, 512),\n",
    "            nn.ReLU(),\n",
    "            nn.Dense(512, 512),\n",
    "            nn.ReLU(),\n",
    "            nn.Dense(512, 10)\n",
    "        )\n",
    "\n",
    "    def construct(self, x):\n",
    "        x = self.flatten(x)\n",
    "        logits = self.dense_relu_sequential(x)\n",
    "        return logits"
   ]
  },
  {
   "cell_type": "code",
   "execution_count": 3,
   "id": "5e2bb4cc",
   "metadata": {},
   "outputs": [],
   "source": [
    "train_dataset = datapipe('MNIST_Data/train', 64)\n",
    "test_dataset = datapipe('MNIST_Data/test', 64)\n",
    "model = Network()\n",
    "\n",
    "# Instantiate loss function and optimizer\n",
    "loss_fn = nn.CrossEntropyLoss()\n",
    "optimizer = nn.SGD(model.trainable_params(), 1e-2)"
   ]
  },
  {
   "cell_type": "code",
   "execution_count": 9,
   "id": "1f059546",
   "metadata": {},
   "outputs": [],
   "source": [
    "steps_per_epoch = train_dataset.get_dataset_size()\n",
    "config = CheckpointConfig(save_checkpoint_steps=steps_per_epoch)\n",
    "\n",
    "ckpt_callback = ModelCheckpoint(prefix=\"mnist\", directory=\"./checkpoint\", config=config)\n",
    "loss_callback = LossMonitor(steps_per_epoch)"
   ]
  },
  {
   "cell_type": "code",
   "execution_count": 10,
   "id": "d775e2af",
   "metadata": {},
   "outputs": [
    {
     "name": "stdout",
     "output_type": "stream",
     "text": [
      "epoch: 1 step: 938, loss is 0.37135517597198486\n",
      "Eval result: epoch 1, metrics: {'accuracy': 0.8531}\n",
      "epoch: 2 step: 938, loss is 0.2966076135635376\n",
      "Eval result: epoch 2, metrics: {'accuracy': 0.9015}\n",
      "epoch: 3 step: 938, loss is 0.3660462498664856\n",
      "Eval result: epoch 3, metrics: {'accuracy': 0.9222}\n",
      "epoch: 4 step: 938, loss is 0.44235530495643616\n",
      "Eval result: epoch 4, metrics: {'accuracy': 0.9259}\n",
      "epoch: 5 step: 938, loss is 0.1428687572479248\n",
      "Eval result: epoch 5, metrics: {'accuracy': 0.9373}\n",
      "epoch: 6 step: 938, loss is 0.05964306741952896\n",
      "Eval result: epoch 6, metrics: {'accuracy': 0.9445}\n",
      "epoch: 7 step: 938, loss is 0.16607774794101715\n",
      "Eval result: epoch 7, metrics: {'accuracy': 0.9509}\n",
      "epoch: 8 step: 938, loss is 0.11525055766105652\n",
      "Eval result: epoch 8, metrics: {'accuracy': 0.9542}\n",
      "epoch: 9 step: 938, loss is 0.1342763602733612\n",
      "Eval result: epoch 9, metrics: {'accuracy': 0.9594}\n",
      "epoch: 10 step: 938, loss is 0.27597010135650635\n",
      "Eval result: epoch 10, metrics: {'accuracy': 0.9624}\n"
     ]
    }
   ],
   "source": [
    "trainer = Model(model, loss_fn=loss_fn, optimizer=optimizer, metrics={'accuracy'})\n",
    "\n",
    "trainer.fit(10, train_dataset, test_dataset, callbacks=[ckpt_callback, loss_callback])"
   ]
  },
  {
   "cell_type": "code",
   "execution_count": 11,
   "id": "26894499",
   "metadata": {},
   "outputs": [
    {
     "data": {
      "text/plain": [
       "{'accuracy': 0.9624}"
      ]
     },
     "execution_count": 11,
     "metadata": {},
     "output_type": "execute_result"
    }
   ],
   "source": [
    "acc = trainer.eval(test_dataset)\n",
    "acc"
   ]
  },
  {
   "cell_type": "markdown",
   "id": "92da9701",
   "metadata": {},
   "source": [
    "## Callback Mechanism"
   ]
  },
  {
   "cell_type": "code",
   "execution_count": 3,
   "id": "ec756303",
   "metadata": {},
   "outputs": [],
   "source": [
    "import mindspore\n",
    "from mindspore import nn\n",
    "from mindspore.dataset import vision, transforms\n",
    "from mindspore.dataset import MnistDataset\n",
    "from mindspore.train import Model"
   ]
  },
  {
   "cell_type": "code",
   "execution_count": 4,
   "id": "e6564181",
   "metadata": {},
   "outputs": [],
   "source": [
    "def datapipe(path, batch_size):\n",
    "    image_transforms = [\n",
    "        vision.Rescale(1.0 / 255.0, 0),\n",
    "        vision.Normalize(mean=(0.1307,), std=(0.3081,)),\n",
    "        vision.HWC2CHW()\n",
    "    ]\n",
    "    label_transform = transforms.TypeCast(mindspore.int32)\n",
    "\n",
    "    dataset = MnistDataset(path)\n",
    "    dataset = dataset.map(image_transforms, 'image')\n",
    "    dataset = dataset.map(label_transform, 'label')\n",
    "    dataset = dataset.batch(batch_size)\n",
    "    return dataset\n",
    "\n",
    "# Define model\n",
    "class Network(nn.Cell):\n",
    "    def __init__(self):\n",
    "        super().__init__()\n",
    "        self.flatten = nn.Flatten()\n",
    "        self.dense_relu_sequential = nn.SequentialCell(\n",
    "            nn.Dense(28*28, 512),\n",
    "            nn.ReLU(),\n",
    "            nn.Dense(512, 512),\n",
    "            nn.ReLU(),\n",
    "            nn.Dense(512, 10)\n",
    "        )\n",
    "\n",
    "    def construct(self, x):\n",
    "        x = self.flatten(x)\n",
    "        logits = self.dense_relu_sequential(x)\n",
    "        return logits"
   ]
  },
  {
   "cell_type": "code",
   "execution_count": 5,
   "id": "d955dc52",
   "metadata": {},
   "outputs": [],
   "source": [
    "model = Network()\n",
    "loss_fn = nn.CrossEntropyLoss()\n",
    "optimizer = nn.SGD(model.trainable_params(), 1e-2)\n",
    "\n",
    "train_dataset = datapipe('MNIST_Data/train', 64)\n",
    "test_dataset = datapipe('MNIST_Data/test', 64)\n",
    "\n",
    "trainer = Model(model, loss_fn=loss_fn, optimizer=optimizer, metrics={'accuracy'})"
   ]
  },
  {
   "cell_type": "markdown",
   "id": "cde76ab0",
   "metadata": {},
   "source": [
    "### Common Built-in Callback Functions"
   ]
  },
  {
   "cell_type": "code",
   "execution_count": 7,
   "id": "c52dc7a3",
   "metadata": {},
   "outputs": [],
   "source": [
    "from mindspore.train import ModelCheckpoint, CheckpointConfig\n",
    "\n",
    "# Set the configuration information of the saved model.\n",
    "config = CheckpointConfig(save_checkpoint_steps=1875, keep_checkpoint_max=10)\n",
    "# Instantiate the saved model callback API and define the storage path and prefix.\n",
    "ckpt_callback = ModelCheckpoint(prefix=\"mnist\", directory=\"./checkpoint\", config=config)\n",
    "\n",
    "# Start training and load the saved model and parameter callback function.\n",
    "trainer.train(1, train_dataset, callbacks=[ckpt_callback])"
   ]
  },
  {
   "cell_type": "code",
   "execution_count": 8,
   "id": "ac61b3cc",
   "metadata": {},
   "outputs": [
    {
     "name": "stdout",
     "output_type": "stream",
     "text": [
      "epoch: 1 step: 300, loss is 0.5798892974853516\n",
      "epoch: 1 step: 600, loss is 0.5884872674942017\n",
      "epoch: 1 step: 900, loss is 0.420920729637146\n"
     ]
    }
   ],
   "source": [
    "from mindspore.train import LossMonitor\n",
    "\n",
    "loss_monitor = LossMonitor(300)\n",
    "# Start training and load the saved model and parameter callback function. The input parameters of LossMonitor are learning rate (0.01) and stride (375).\n",
    "trainer.train(1, train_dataset, callbacks=[loss_monitor])"
   ]
  },
  {
   "cell_type": "code",
   "execution_count": 9,
   "id": "224649c7",
   "metadata": {},
   "outputs": [
    {
     "name": "stdout",
     "output_type": "stream",
     "text": [
      "epoch: 1 step: 300, loss is 0.36249208450317383\n",
      "epoch: 1 step: 600, loss is 0.19838064908981323\n",
      "epoch: 1 step: 900, loss is 0.2546441853046417\n",
      "Eval result: epoch 1, metrics: {'accuracy': 0.9188}\n"
     ]
    }
   ],
   "source": [
    "trainer.fit(1, train_dataset, test_dataset, callbacks=[loss_monitor])"
   ]
  },
  {
   "cell_type": "code",
   "execution_count": 10,
   "id": "5ea70518",
   "metadata": {},
   "outputs": [
    {
     "name": "stdout",
     "output_type": "stream",
     "text": [
      "Begin training, time is: 1682396722.0708778\n",
      "End training, time: 1682396726.0770073, epoch: 1, step: 37, loss:0.25167876\n"
     ]
    }
   ],
   "source": [
    "import time\n",
    "import mindspore as ms\n",
    "\n",
    "class StopTimeMonitor(ms.train.Callback):\n",
    "\n",
    "    def __init__(self, run_time):\n",
    "        \"\"\"Define the initialization process.\"\"\"\n",
    "        super(StopTimeMonitor, self).__init__()\n",
    "        self.run_time = run_time            # Define the execution time.\n",
    "\n",
    "    def on_train_begin(self, run_context):\n",
    "        \"\"\"Operations when training is started.\"\"\"\n",
    "        cb_params = run_context.original_args()\n",
    "        cb_params.init_time = time.time()   # Obtain the current timestamp as the training start time.\n",
    "        print(f\"Begin training, time is: {cb_params.init_time}\")\n",
    "\n",
    "    def on_train_step_end(self, run_context):\n",
    "        \"\"\"Operations after each step ends.\"\"\"\n",
    "        cb_params = run_context.original_args()\n",
    "        epoch_num = cb_params.cur_epoch_num  # Obtain the epoch value.\n",
    "        step_num = cb_params.cur_step_num    # Obtain the step value.\n",
    "        loss = cb_params.net_outputs         # Obtain the loss value.\n",
    "        cur_time = time.time()               # Obtain the current timestamp.\n",
    "\n",
    "        if (cur_time - cb_params.init_time) > self.run_time:\n",
    "            print(f\"End training, time: {cur_time}, epoch: {epoch_num}, step: {step_num}, loss:{loss}\")\n",
    "            run_context.request_stop()       # Stop training.\n",
    "\n",
    "datasize = train_dataset.get_dataset_size()\n",
    "trainer.train(5, train_dataset, callbacks=[LossMonitor(datasize), StopTimeMonitor(4)])"
   ]
  },
  {
   "cell_type": "code",
   "execution_count": 11,
   "id": "4656fe0e",
   "metadata": {},
   "outputs": [
    {
     "name": "stdout",
     "output_type": "stream",
     "text": [
      "Begin training, time is: 1682396726.1809893\n",
      "Saved checkpoint, loss:0.0790918, current step num: 227.\n",
      "End training, time: 1682396756.2271755, epoch: 1, step: 326, loss:0.33237484\n"
     ]
    }
   ],
   "source": [
    "import mindspore as ms\n",
    "\n",
    "# Define the callback API for saving the CKPT file.\n",
    "class SaveCkptMonitor(ms.train.Callback):\n",
    "    \"\"\"Define the initialization process.\"\"\"\n",
    "\n",
    "    def __init__(self, loss):\n",
    "        super(SaveCkptMonitor, self).__init__()\n",
    "        self.loss = loss # Defines the loss threshold.\n",
    "\n",
    "    def on_train_step_end(self, run_context):\n",
    "        \"\"\"Define the operation to be performed when a step ends.\"\"\"\n",
    "        cb_params = run_context.original_args()\n",
    "        cur_loss = cb_params.net_outputs.asnumpy() # Obtain the current loss value.\n",
    "\n",
    "        # If the current loss value is less than the preset threshold, the training stops.\n",
    "        if cur_loss < self.loss:\n",
    "            # Name the file to be saved.\n",
    "            file_name = f\"./checkpoint/{cb_params.cur_epoch_num}_{cb_params.cur_step_num}.ckpt\"\n",
    "            # Save the network model.\n",
    "            ms.save_checkpoint(save_obj=cb_params.train_network, ckpt_file_name=file_name)\n",
    "            print(\"Saved checkpoint, loss:{:8.7f}, current step num:{:4}.\".format(cur_loss, cb_params.cur_step_num))\n",
    "\n",
    "trainer.train(1, train_dataset, callbacks=[SaveCkptMonitor(0.1), StopTimeMonitor(30)])"
   ]
  },
  {
   "cell_type": "markdown",
   "id": "85a8a619",
   "metadata": {},
   "source": [
    "## Evaluation Metrics"
   ]
  },
  {
   "cell_type": "code",
   "execution_count": 12,
   "id": "5426e33c",
   "metadata": {},
   "outputs": [
    {
     "name": "stdout",
     "output_type": "stream",
     "text": [
      "0.1499999612569809\n"
     ]
    }
   ],
   "source": [
    "import numpy as np\n",
    "import mindspore as ms\n",
    "\n",
    "class MyMAE(ms.train.Metric):\n",
    "    def __init__(self):\n",
    "        super(MyMAE, self).__init__()\n",
    "        self.clear()\n",
    "\n",
    "    def clear(self):\n",
    "        \"\"\"Initialize variables _abs_error_sum and _samples_num.\"\"\"\n",
    "        self._abs_error_sum = 0  # Save error sum.\n",
    "        self._samples_num = 0    # Accumulated data volume.\n",
    "\n",
    "    def update(self, *inputs):\n",
    "        \"\"\"Update _abs_error_sum and _samples_num.\"\"\"\n",
    "        y_pred = inputs[0].asnumpy()\n",
    "        y = inputs[1].asnumpy()\n",
    "\n",
    "        # Compute the absolute error between the predicted value and the actual value.\n",
    "        abs_error_sum = np.abs(y - y_pred)\n",
    "        self._abs_error_sum += abs_error_sum.sum()\n",
    "\n",
    "        # Total number of samples\n",
    "        self._samples_num += y.shape[0]\n",
    "\n",
    "    def eval(self):\n",
    "        \"\"\"Compute the final evaluation result.\"\"\"\n",
    "        return self._abs_error_sum / self._samples_num\n",
    "\n",
    "# The network has two outputs.\n",
    "y_pred = ms.Tensor(np.array([[0.1, 0.2, 0.6, 0.9], [0.1, 0.2, 0.6, 0.9]]), ms.float32)\n",
    "y = ms.Tensor(np.array([[0.1, 0.25, 0.7, 0.9], [0.1, 0.25, 0.7, 0.9]]), ms.float32)\n",
    "\n",
    "error = MyMAE()\n",
    "error.clear()\n",
    "error.update(y_pred, y)\n",
    "result = error.eval()\n",
    "print(result)"
   ]
  },
  {
   "cell_type": "code",
   "execution_count": 13,
   "id": "b8fadf17",
   "metadata": {},
   "outputs": [],
   "source": [
    "import numpy as np\n",
    "from mindspore import dataset as ds\n",
    "\n",
    "def get_data(num, w=2.0, b=3.0):\n",
    "    \"\"\"Generate data and corresponding labels.\"\"\"\n",
    "    for _ in range(num):\n",
    "        x = np.random.uniform(-10.0, 10.0)\n",
    "        noise = np.random.normal(0, 1)\n",
    "        y = x * w + b + noise\n",
    "        yield np.array([x]).astype(np.float32), np.array([y]).astype(np.float32)\n",
    "\n",
    "def create_dataset(num_data, batch_size=16):\n",
    "    \"\"\"Load the dataset.\"\"\"\n",
    "    dataset = ds.GeneratorDataset(list(get_data(num_data)), column_names=['data', 'label'])\n",
    "    dataset = dataset.batch(batch_size)\n",
    "    return dataset"
   ]
  },
  {
   "cell_type": "code",
   "execution_count": 14,
   "id": "996f7fdb",
   "metadata": {},
   "outputs": [
    {
     "name": "stdout",
     "output_type": "stream",
     "text": [
      "epoch: 1 step: 10, loss is 4.979913234710693\n",
      "Eval result: epoch 1, metrics: {'MAE': 5.559346437454224}\n",
      "epoch: 2 step: 10, loss is 2.832225799560547\n",
      "Eval result: epoch 2, metrics: {'MAE': 3.12603964805603}\n",
      "epoch: 3 step: 10, loss is 3.0133275985717773\n",
      "Eval result: epoch 3, metrics: {'MAE': 2.4620973229408265}\n",
      "epoch: 4 step: 10, loss is 1.9226611852645874\n",
      "Eval result: epoch 4, metrics: {'MAE': 2.3035077929496763}\n",
      "epoch: 5 step: 10, loss is 1.9341741800308228\n",
      "Eval result: epoch 5, metrics: {'MAE': 1.7947426557540893}\n",
      "epoch: 6 step: 10, loss is 1.4008338451385498\n",
      "Eval result: epoch 6, metrics: {'MAE': 1.4339068591594697}\n",
      "epoch: 7 step: 10, loss is 0.9543579816818237\n",
      "Eval result: epoch 7, metrics: {'MAE': 1.1794628143310546}\n",
      "epoch: 8 step: 10, loss is 1.2169930934906006\n",
      "Eval result: epoch 8, metrics: {'MAE': 1.028759878873825}\n",
      "epoch: 9 step: 10, loss is 0.7672677040100098\n",
      "Eval result: epoch 9, metrics: {'MAE': 0.9515393733978271}\n",
      "epoch: 10 step: 10, loss is 0.7260363101959229\n",
      "Eval result: epoch 10, metrics: {'MAE': 0.893917840719223}\n"
     ]
    }
   ],
   "source": [
    "import mindspore.nn as nn\n",
    "from mindspore.train import Model, MAE, LossMonitor\n",
    "\n",
    "net = nn.Dense(1, 1)\n",
    "loss_fn = nn.L1Loss()\n",
    "optimizer = nn.Momentum(net.trainable_params(), learning_rate=0.005, momentum=0.9)\n",
    "\n",
    "# Define a model and use the built-in Accuracy function.\n",
    "model = Model(net, loss_fn, optimizer, metrics={\"MAE\": MAE()})\n",
    "\n",
    "train_dataset = create_dataset(num_data=160)\n",
    "eval_dataset = create_dataset(num_data=160)\n",
    "train_dataset_size = train_dataset.get_dataset_size()\n",
    "\n",
    "model.fit(10, train_dataset, eval_dataset, callbacks=LossMonitor(train_dataset_size))"
   ]
  },
  {
   "cell_type": "code",
   "execution_count": 15,
   "id": "09a3da9e",
   "metadata": {},
   "outputs": [
    {
     "name": "stdout",
     "output_type": "stream",
     "text": [
      "epoch: 1 step: 10, loss is 0.9311931133270264\n",
      "Eval result: epoch 1, metrics: {'MAE': 0.6712135463953018}\n",
      "epoch: 2 step: 10, loss is 0.923863410949707\n",
      "Eval result: epoch 2, metrics: {'MAE': 0.6702738136053086}\n",
      "epoch: 3 step: 10, loss is 0.9739803671836853\n",
      "Eval result: epoch 3, metrics: {'MAE': 0.6796592444181442}\n",
      "epoch: 4 step: 10, loss is 0.6720636487007141\n",
      "Eval result: epoch 4, metrics: {'MAE': 0.6773041188716888}\n",
      "epoch: 5 step: 10, loss is 0.8321170806884766\n",
      "Eval result: epoch 5, metrics: {'MAE': 0.6757591396570206}\n",
      "epoch: 6 step: 10, loss is 0.7173721790313721\n",
      "Eval result: epoch 6, metrics: {'MAE': 0.6949960470199585}\n",
      "epoch: 7 step: 10, loss is 0.7038279175758362\n",
      "Eval result: epoch 7, metrics: {'MAE': 0.6777522325515747}\n",
      "epoch: 8 step: 10, loss is 0.9561238288879395\n",
      "Eval result: epoch 8, metrics: {'MAE': 0.6816858232021332}\n",
      "epoch: 9 step: 10, loss is 0.9234051704406738\n",
      "Eval result: epoch 9, metrics: {'MAE': 0.6834914147853851}\n",
      "epoch: 10 step: 10, loss is 0.6827164888381958\n",
      "Eval result: epoch 10, metrics: {'MAE': 0.7016071617603302}\n"
     ]
    }
   ],
   "source": [
    "train_dataset = create_dataset(num_data=160)\n",
    "eval_dataset = create_dataset(num_data=160)\n",
    "\n",
    "model = Model(net, loss_fn, optimizer, metrics={\"MAE\": MyMAE()})\n",
    "\n",
    "# Define a model and transfer the customized  metrics function MAE to the model.\n",
    "model.fit(10, train_dataset, eval_dataset, callbacks=LossMonitor(train_dataset_size))"
   ]
  },
  {
   "cell_type": "markdown",
   "id": "e9cfe8d7",
   "metadata": {},
   "source": [
    "## Model Module Customization"
   ]
  },
  {
   "cell_type": "code",
   "execution_count": 16,
   "id": "0e1d71fa",
   "metadata": {},
   "outputs": [],
   "source": [
    "from mindspore import nn\n",
    "\n",
    "class AlexNet(nn.Cell):\n",
    "    def __init__(self, num_classes=1000, dropout=0.5):\n",
    "        super().__init__()\n",
    "        self.features = nn.SequentialCell(\n",
    "            nn.Conv2d(3, 64, kernel_size=11, stride=4, pad_mode='pad', padding=2),\n",
    "            nn.ReLU(),\n",
    "            nn.MaxPool2d(kernel_size=3, stride=2),\n",
    "            nn.Conv2d(64, 192, kernel_size=5, pad_mode='pad', padding=2),\n",
    "            nn.ReLU(),\n",
    "            nn.MaxPool2d(kernel_size=3, stride=2),\n",
    "            nn.Conv2d(192, 384, kernel_size=3, pad_mode='pad', padding=1),\n",
    "            nn.ReLU(),\n",
    "            nn.Conv2d(384, 256, kernel_size=3, pad_mode='pad', padding=1),\n",
    "            nn.ReLU(),\n",
    "            nn.Conv2d(256, 256, kernel_size=3, pad_mode='pad', padding=1),\n",
    "            nn.ReLU(),\n",
    "            nn.MaxPool2d(kernel_size=3, stride=2),\n",
    "        )\n",
    "        self.classifier = nn.SequentialCell(\n",
    "            nn.Dropout(1-dropout),\n",
    "            nn.Dense(256 * 6 * 6, 4096),\n",
    "            nn.ReLU(),\n",
    "            nn.Dropout(1-dropout),\n",
    "            nn.Dense(4096, 4096),\n",
    "            nn.ReLU(),\n",
    "            nn.Dense(4096, num_classes),\n",
    "        )\n",
    "\n",
    "    def construct(self, x):\n",
    "        x = self.features(x)\n",
    "        x = x.view(x.shape[0], 256 * 6 * 6)\n",
    "        x = self.classifier(x)\n",
    "        return x"
   ]
  },
  {
   "cell_type": "code",
   "execution_count": 17,
   "id": "6c42a0d5",
   "metadata": {},
   "outputs": [],
   "source": [
    "import numpy as np\n",
    "import mindspore\n",
    "from mindspore import Tensor\n",
    "\n",
    "x = Tensor(np.random.randn(1, 3, 224, 224), mindspore.float32)"
   ]
  },
  {
   "cell_type": "code",
   "execution_count": 18,
   "id": "56f4f3db",
   "metadata": {},
   "outputs": [
    {
     "name": "stdout",
     "output_type": "stream",
     "text": [
      "(1, 1000)\n"
     ]
    }
   ],
   "source": [
    "network = AlexNet()\n",
    "logits = network(x)\n",
    "print(logits.shape)"
   ]
  },
  {
   "cell_type": "markdown",
   "id": "597974ac",
   "metadata": {},
   "source": [
    "## Cell and Parameter"
   ]
  },
  {
   "cell_type": "code",
   "execution_count": 19,
   "id": "d8a6a4e5",
   "metadata": {},
   "outputs": [],
   "source": [
    "import numpy as np\n",
    "import mindspore\n",
    "from mindspore import nn\n",
    "from mindspore import ops\n",
    "from mindspore import Tensor, Parameter\n",
    "\n",
    "class Network(nn.Cell):\n",
    "    def __init__(self):\n",
    "        super().__init__()\n",
    "        self.w = Parameter(Tensor(np.random.randn(5, 3), mindspore.float32), name='w') # weight\n",
    "        self.b = Parameter(Tensor(np.random.randn(3,), mindspore.float32), name='b') # bias\n",
    "\n",
    "    def construct(self, x):\n",
    "        z = ops.matmul(x, self.w) + self.b\n",
    "        return z\n",
    "\n",
    "net = Network()"
   ]
  },
  {
   "cell_type": "code",
   "execution_count": 20,
   "id": "8028880e",
   "metadata": {},
   "outputs": [
    {
     "name": "stdout",
     "output_type": "stream",
     "text": [
      "[-2.0805693  0.3552656 -1.6192602]\n"
     ]
    }
   ],
   "source": [
    "print(net.b.asnumpy())"
   ]
  },
  {
   "cell_type": "code",
   "execution_count": 21,
   "id": "066625d2",
   "metadata": {},
   "outputs": [
    {
     "name": "stdout",
     "output_type": "stream",
     "text": [
      "[Parameter (name=w, shape=(5, 3), dtype=Float32, requires_grad=True), Parameter (name=b, shape=(3,), dtype=Float32, requires_grad=True)]\n"
     ]
    }
   ],
   "source": [
    "print(net.trainable_params())"
   ]
  },
  {
   "cell_type": "code",
   "execution_count": 22,
   "id": "1443362a",
   "metadata": {},
   "outputs": [
    {
     "name": "stdout",
     "output_type": "stream",
     "text": [
      "<class 'generator'>\n"
     ]
    }
   ],
   "source": [
    "print(type(net.get_parameters()))"
   ]
  },
  {
   "cell_type": "code",
   "execution_count": 23,
   "id": "aac098ec",
   "metadata": {},
   "outputs": [
    {
     "name": "stdout",
     "output_type": "stream",
     "text": [
      "w:\n",
      "[[ 1.6417935   1.6244147   0.634924  ]\n",
      " [ 0.87505287 -0.1105612  -1.4617256 ]\n",
      " [ 0.05312686  0.7627763   1.346365  ]\n",
      " [-0.26505244 -1.4579067  -0.19795741]\n",
      " [ 1.931845   -0.5473185   0.5458011 ]]\n",
      "b:\n",
      "[-2.0805693  0.3552656 -1.6192602]\n"
     ]
    }
   ],
   "source": [
    "for name, param in net.parameters_and_names():\n",
    "    print(f\"{name}:\\n{param.asnumpy()}\")"
   ]
  },
  {
   "cell_type": "code",
   "execution_count": 24,
   "id": "5f3e11f1",
   "metadata": {},
   "outputs": [
    {
     "name": "stdout",
     "output_type": "stream",
     "text": [
      "[ 1.         0.3552656 -1.6192602]\n"
     ]
    }
   ],
   "source": [
    "net.b[0] = 1.\n",
    "print(net.b.asnumpy())"
   ]
  },
  {
   "cell_type": "code",
   "execution_count": 30,
   "id": "a9bcd10e",
   "metadata": {},
   "outputs": [
    {
     "name": "stdout",
     "output_type": "stream",
     "text": [
      "[3. 4. 5.]\n"
     ]
    }
   ],
   "source": [
    "net.b.set_data(Tensor([3, 4, 5]))\n",
    "print(net.b.asnumpy())"
   ]
  },
  {
   "cell_type": "code",
   "execution_count": 31,
   "id": "3b2de9d3",
   "metadata": {},
   "outputs": [
    {
     "name": "stdout",
     "output_type": "stream",
     "text": [
      "[7. 8. 9.]\n"
     ]
    },
    {
     "name": "stderr",
     "output_type": "stream",
     "text": [
      "[ERROR] CORE(1336,7f75993af740,python):2023-04-25-11:49:29.957.552 [mindspore/core/utils/file_utils.cc:253] GetRealPath] Get realpath failed, path[/tmp/ipykernel_1336/2418997884.py]\n",
      "[ERROR] CORE(1336,7f75993af740,python):2023-04-25-11:49:29.960.085 [mindspore/core/utils/file_utils.cc:253] GetRealPath] Get realpath failed, path[/tmp/ipykernel_1336/2418997884.py]\n",
      "[ERROR] KERNEL(1336,7f75993af740,python):2023-04-25-11:49:30.035.029 [mindspore/ccsrc/plugin/device/cpu/kernel/assign_cpu_kernel.cc:165] LaunchKernel] For 'Assign', memcpy size must be less than or equal to max size, but got memcpy size: 36, and max size: 12\n"
     ]
    }
   ],
   "source": [
    "import mindspore as ms\n",
    "\n",
    "@ms.jit\n",
    "def modify_parameter():\n",
    "    b_hat = ms.Tensor([7, 8, 9])\n",
    "    ops.assign(net.b, b_hat)\n",
    "    return True\n",
    "\n",
    "modify_parameter()\n",
    "print(net.b.asnumpy())"
   ]
  },
  {
   "cell_type": "code",
   "execution_count": 33,
   "id": "6b9df20a",
   "metadata": {},
   "outputs": [
    {
     "name": "stdout",
     "output_type": "stream",
     "text": [
      "(Parameter (name=x, shape=(2, 3), dtype=Int64, requires_grad=True), Parameter (name=y, shape=(1, 2, 3), dtype=Float32, requires_grad=True), Parameter (name=z, shape=(), dtype=Float32, requires_grad=True))\n",
      "(Parameter (name=params_copy.x, shape=(2, 3), dtype=Int64, requires_grad=True), Parameter (name=params_copy.y, shape=(1, 2, 3), dtype=Float32, requires_grad=True), Parameter (name=params_copy.z, shape=(), dtype=Float32, requires_grad=True))\n"
     ]
    }
   ],
   "source": [
    "from mindspore.common.initializer import initializer\n",
    "from mindspore import ParameterTuple\n",
    "# Creation\n",
    "x = Parameter(default_input=ms.Tensor(np.arange(2 * 3).reshape((2, 3))), name=\"x\")\n",
    "y = Parameter(default_input=initializer('ones', [1, 2, 3], ms.float32), name='y')\n",
    "z = Parameter(default_input=2.0, name='z')\n",
    "params = ParameterTuple((x, y, z))\n",
    "\n",
    "# Clone from params and change the name to \"params_copy\"\n",
    "params_copy = params.clone(\"params_copy\")\n",
    "\n",
    "print(params)\n",
    "print(params_copy)"
   ]
  },
  {
   "cell_type": "code",
   "execution_count": 34,
   "id": "0c9ab400",
   "metadata": {},
   "outputs": [
    {
     "name": "stdout",
     "output_type": "stream",
     "text": [
      "train\n"
     ]
    }
   ],
   "source": [
    "net.set_train()\n",
    "print(net.phase)"
   ]
  },
  {
   "cell_type": "code",
   "execution_count": 35,
   "id": "42eea5f5",
   "metadata": {},
   "outputs": [
    {
     "name": "stdout",
     "output_type": "stream",
     "text": [
      "predict\n"
     ]
    }
   ],
   "source": [
    "net.set_train(False)\n",
    "print(net.phase)"
   ]
  },
  {
   "cell_type": "markdown",
   "id": "f2ae2664",
   "metadata": {},
   "source": [
    "**Constructing Neural Network Layers by Using the Function Interface**"
   ]
  },
  {
   "cell_type": "code",
   "execution_count": 36,
   "id": "59299645",
   "metadata": {},
   "outputs": [],
   "source": [
    "class Threshold(nn.Cell):\n",
    "    def __init__(self, threshold, value):\n",
    "        super().__init__()\n",
    "        self.threshold = threshold\n",
    "        self.value = value\n",
    "\n",
    "    def construct(self, inputs):\n",
    "        cond = ops.gt(inputs, self.threshold)\n",
    "        value = ops.fill(inputs.dtype, inputs.shape, self.value)\n",
    "        return ops.select(cond, inputs, value)"
   ]
  },
  {
   "cell_type": "code",
   "execution_count": 37,
   "id": "387051e5",
   "metadata": {},
   "outputs": [
    {
     "data": {
      "text/plain": [
       "Tensor(shape=[3], dtype=Float32, value= [ 2.00000000e+01,  2.00000003e-01,  3.00000012e-01])"
      ]
     },
     "execution_count": 37,
     "metadata": {},
     "output_type": "execute_result"
    }
   ],
   "source": [
    "m = Threshold(0.1, 20)\n",
    "inputs = mindspore.Tensor([0.1, 0.2, 0.3], mindspore.float32)\n",
    "m(inputs)"
   ]
  },
  {
   "cell_type": "markdown",
   "id": "5c91c3a5",
   "metadata": {},
   "source": [
    "**Custom Cell Reverse**"
   ]
  },
  {
   "cell_type": "code",
   "execution_count": 38,
   "id": "c5c38ea0",
   "metadata": {},
   "outputs": [],
   "source": [
    "class Dropout2d(nn.Cell):\n",
    "    def __init__(self, keep_prob):\n",
    "        super().__init__()\n",
    "        self.keep_prob = keep_prob\n",
    "        self.dropout2d = ops.Dropout2D(keep_prob)\n",
    "\n",
    "    def construct(self, x):\n",
    "        return self.dropout2d(x)\n",
    "\n",
    "    def bprop(self, x, out, dout):\n",
    "        _, mask = out\n",
    "        dy, _ = dout\n",
    "        if self.keep_prob != 0:\n",
    "            dy = dy * (1 / self.keep_prob)\n",
    "        dy = mask.astype(mindspore.float32) * dy\n",
    "        return (dy.astype(x.dtype), )\n",
    "\n",
    "dropout_2d = Dropout2d(0.8)\n",
    "dropout_2d.bprop_debug = True"
   ]
  },
  {
   "cell_type": "markdown",
   "id": "6223a45a",
   "metadata": {},
   "source": [
    "## Parameter Initialization"
   ]
  },
  {
   "cell_type": "code",
   "execution_count": 43,
   "id": "fe1a3be6",
   "metadata": {
    "scrolled": true
   },
   "outputs": [
    {
     "name": "stdout",
     "output_type": "stream",
     "text": [
      "[ 0.47601968 -0.4681269  -0.4681269  -0.4681269  -0.4681269  -0.4681269\n",
      " -0.4681269  -0.4681269  -0.4681269  -0.4681269  -0.4681269  -0.4681269\n",
      " -0.4681269  -0.4681269  -0.4681269  -0.4681269  -0.4681269  -0.4681269\n",
      " -0.4681269  -0.4681269  -0.4681269  -0.4681269  -0.4681269  -0.4681269\n",
      " -0.4681269  -0.4681269  -0.4681269  -0.4681269  -0.4681269  -0.4681269\n",
      " -0.4681269  -0.4681269  -0.4681269  -0.4681269  -0.4681269  -0.4681269\n",
      " -0.4681269  -0.4681269  -0.4681269  -0.4681269  -0.4681269  -0.4681269\n",
      " -0.4681269  -0.4681269  -0.4681269  -0.4681269  -0.4681269  -0.4681269\n",
      " -0.4681269  -0.5583803 ]\n"
     ]
    }
   ],
   "source": [
    "import numpy as np\n",
    "import mindspore.nn as nn\n",
    "import mindspore as ms\n",
    "from mindspore.common.initializer import Normal, initializer\n",
    "\n",
    "input_data = ms.Tensor(np.ones([1, 3, 16, 50], dtype=np.float32))\n",
    "# Convolution layer, the input channel is 3, the output channel is 64, the size of convolution kernel is 3 * 3, and the weight parameter uses the random number generated by normal distribution, Nomal().\n",
    "net = nn.Conv2d(3, 64, 3, weight_init=Normal(0.2))\n",
    "# The network output\n",
    "output = net(input_data)\n",
    "print(output[0, 0, 0])"
   ]
  },
  {
   "cell_type": "code",
   "execution_count": 45,
   "id": "93309773",
   "metadata": {},
   "outputs": [
    {
     "name": "stdout",
     "output_type": "stream",
     "text": [
      "[0.04573027 0.05023552 0.05023552 0.05023552 0.05023552 0.05023552\n",
      " 0.05023552 0.05023552 0.05023552 0.05023552 0.05023552 0.05023552\n",
      " 0.05023552 0.05023552 0.05023552 0.05023552 0.05023552 0.05023552\n",
      " 0.05023552 0.05023552 0.05023552 0.05023552 0.05023552 0.05023552\n",
      " 0.05023552 0.05023552 0.05023552 0.05023552 0.05023552 0.05023552\n",
      " 0.05023552 0.05023552 0.05023552 0.05023552 0.05023552 0.05023552\n",
      " 0.05023552 0.05023552 0.05023552 0.05023552 0.05023552 0.05023552\n",
      " 0.05023552 0.05023552 0.05023552 0.05023552 0.05023552 0.05023552\n",
      " 0.05023552 0.03975265]\n"
     ]
    }
   ],
   "source": [
    "import numpy as np\n",
    "import mindspore.nn as nn\n",
    "import mindspore as ms\n",
    "\n",
    "net = nn.Conv2d(3, 64, 3, weight_init='normal')\n",
    "output = net(input_data)\n",
    "print(output[0, 0, 0])"
   ]
  },
  {
   "cell_type": "code",
   "execution_count": 47,
   "id": "fa6a1c0a",
   "metadata": {},
   "outputs": [],
   "source": [
    "import math\n",
    "import numpy as np\n",
    "from mindspore.common.initializer import Initializer, _calculate_fan_in_and_fan_out, _assignment\n",
    "\n",
    "class XavierNormal(Initializer):\n",
    "    def __init__(self, gain=1):\n",
    "        super().__init__()\n",
    "        # Configure the parameters required for initialization\n",
    "        self.gain = gain\n",
    "\n",
    "    def _initialize(self, arr): # arr is a Tensor to be initialized\n",
    "        fan_in, fan_out = _calculate_fan_in_and_fan_out(arr.shape) # Compute fan_in, fan_out\n",
    "\n",
    "        std = self.gain * math.sqrt(2.0 / float(fan_in + fan_out)) # Calculate std value\n",
    "        data = np.random.normal(0, std, arr.shape) # Construct the initialized array with numpy\n",
    "\n",
    "        _assignment(arr, data) # Assign the initialized ndarray to arr"
   ]
  },
  {
   "cell_type": "code",
   "execution_count": 49,
   "id": "0a8ad7fa",
   "metadata": {},
   "outputs": [
    {
     "name": "stdout",
     "output_type": "stream",
     "text": [
      "[-0.03786972 -0.09298286 -0.09298286 -0.09298286 -0.09298286 -0.09298286\n",
      " -0.09298286 -0.09298286 -0.09298286 -0.09298286 -0.09298286 -0.09298286\n",
      " -0.09298286 -0.09298286 -0.09298286 -0.09298286 -0.09298286 -0.09298286\n",
      " -0.09298286 -0.09298286 -0.09298286 -0.09298286 -0.09298286 -0.09298286\n",
      " -0.09298286 -0.09298286 -0.09298286 -0.09298286 -0.09298286 -0.09298286\n",
      " -0.09298286 -0.09298286 -0.09298286 -0.09298286 -0.09298286 -0.09298286\n",
      " -0.09298286 -0.09298286 -0.09298286 -0.09298286 -0.09298286 -0.09298286\n",
      " -0.09298286 -0.09298286 -0.09298286 -0.09298286 -0.09298286 -0.09298286\n",
      " -0.09298286 -0.10245635]\n"
     ]
    }
   ],
   "source": [
    "net = nn.Conv2d(3, 64, 3, weight_init=XavierNormal())\n",
    "# The network output\n",
    "output = net(input_data)\n",
    "print(output[0, 0, 0])"
   ]
  },
  {
   "cell_type": "code",
   "execution_count": 50,
   "id": "79ed93a1",
   "metadata": {},
   "outputs": [],
   "source": [
    "for name, param in net.parameters_and_names():\n",
    "    if 'weight' in name:\n",
    "        param.set_data(initializer(Normal(), param.shape, param.dtype))\n",
    "    if 'bias' in name:\n",
    "        param.set_data(initializer('zeros', param.shape, param.dtype))"
   ]
  },
  {
   "cell_type": "code",
   "execution_count": 52,
   "id": "ed55764b",
   "metadata": {
    "scrolled": true
   },
   "outputs": [
    {
     "name": "stdout",
     "output_type": "stream",
     "text": [
      "[[[[ 9.93757788e-03  1.07211685e-02  1.43771200e-02]\n",
      "   [ 1.23295235e-03 -6.91851648e-03  1.05708279e-03]\n",
      "   [ 1.79048683e-02  1.30180791e-02 -1.18357725e-02]]\n",
      "\n",
      "  [[-2.77717295e-03 -8.02185666e-03 -1.55472001e-02]\n",
      "   [-2.27034488e-03  9.95652657e-03 -4.47437214e-03]\n",
      "   [ 9.35605448e-03 -1.44332983e-02 -2.85325130e-03]]\n",
      "\n",
      "  [[ 1.73536539e-02  7.40280515e-03  2.96786020e-04]\n",
      "   [-5.32262074e-03 -1.32603645e-02 -9.17145610e-03]\n",
      "   [ 5.01711620e-03 -8.96452740e-03  8.54974892e-03]]]\n",
      "\n",
      "\n",
      " [[[ 1.05022900e-02 -9.98675171e-03  1.09957065e-02]\n",
      "   [ 1.61721688e-02 -2.24403862e-04 -2.34854240e-02]\n",
      "   [-9.90053522e-04  1.12965731e-02  6.38783304e-03]]\n",
      "\n",
      "  [[-1.06459502e-02  6.19190885e-03 -2.17527268e-03]\n",
      "   [ 1.04078492e-02 -1.04366876e-02  6.72216713e-03]\n",
      "   [-3.75546375e-03 -1.51693355e-02 -1.54582318e-02]]\n",
      "\n",
      "  [[ 2.02229503e-03 -9.26543667e-04  1.11911457e-03]\n",
      "   [ 7.06475927e-03  1.63003069e-03  4.25465126e-03]\n",
      "   [-2.54934002e-03 -1.47892628e-02  5.57124673e-04]]]\n",
      "\n",
      "\n",
      " [[[ 1.58717576e-02 -2.62103276e-04  1.10022752e-02]\n",
      "   [ 1.73183028e-02 -2.93976301e-03 -2.08089463e-02]\n",
      "   [-4.19346057e-03 -1.54111553e-02  5.01086237e-03]]\n",
      "\n",
      "  [[ 7.92300329e-03 -4.06803191e-03 -5.70804067e-03]\n",
      "   [-1.19060855e-02 -7.31795514e-03  7.30859861e-03]\n",
      "   [ 3.42794182e-03 -3.36630340e-03 -5.47380559e-03]]\n",
      "\n",
      "  [[ 1.21828970e-02 -2.43309536e-03 -8.39007087e-04]\n",
      "   [-6.68985164e-03  2.60253064e-03 -4.41248855e-03]\n",
      "   [ 9.16241854e-03  8.83076154e-03 -4.46848944e-03]]]\n",
      "\n",
      "\n",
      " ...\n",
      "\n",
      "\n",
      " [[[-1.06358938e-02 -7.08160456e-03  1.12035638e-02]\n",
      "   [ 2.97555933e-04 -2.38425215e-03 -9.82006919e-03]\n",
      "   [-9.11918189e-03 -3.14178951e-02 -6.94396673e-03]]\n",
      "\n",
      "  [[-1.80593831e-03  3.06712859e-03 -3.86353931e-03]\n",
      "   [ 7.44884368e-03 -1.13318888e-02  1.09126233e-02]\n",
      "   [ 9.64418892e-03  6.83723669e-03 -4.30775573e-03]]\n",
      "\n",
      "  [[ 1.24514569e-03 -1.30006671e-02 -1.82828924e-03]\n",
      "   [ 1.57987121e-02  2.85652652e-03  5.26730320e-04]\n",
      "   [ 1.62273049e-02  9.19498224e-03  2.91200168e-03]]]\n",
      "\n",
      "\n",
      " [[[ 1.44131426e-02 -1.98470261e-02 -2.07232567e-03]\n",
      "   [-4.94721520e-04 -2.28252914e-02 -7.72698643e-03]\n",
      "   [ 9.76300985e-03  2.89366231e-03 -9.78939701e-03]]\n",
      "\n",
      "  [[ 5.39967930e-03  1.96837746e-02  4.47653048e-03]\n",
      "   [-1.82809378e-03 -9.34928097e-03 -8.73094890e-03]\n",
      "   [ 1.42951896e-02  1.71914175e-02  2.38030450e-03]]\n",
      "\n",
      "  [[-2.74684397e-03 -6.70814887e-03 -1.26078061e-03]\n",
      "   [-2.35971026e-02  1.23447180e-02 -1.29387621e-03]\n",
      "   [-3.99072608e-03  4.92033968e-03  2.35495884e-02]]]\n",
      "\n",
      "\n",
      " [[[-1.42894371e-03  4.98226518e-03  2.96822196e-04]\n",
      "   [-3.64756631e-03 -7.41920061e-03  7.73344561e-03]\n",
      "   [ 4.10371460e-03  5.52131329e-03 -1.25354517e-03]]\n",
      "\n",
      "  [[ 4.11091000e-03 -2.25362345e-03  3.12793278e-03]\n",
      "   [-1.52872689e-02 -5.22343488e-03 -1.78853907e-02]\n",
      "   [ 5.84934140e-03 -1.33370953e-02 -3.28948209e-03]]\n",
      "\n",
      "  [[-3.29300598e-03 -5.26254904e-03 -1.09177120e-02]\n",
      "   [-8.38467022e-05  5.51212346e-03  1.24015417e-02]\n",
      "   [ 7.25405244e-03 -3.67935444e-03 -1.24867801e-02]]]]\n"
     ]
    }
   ],
   "source": [
    "for name, param in net.parameters_and_names():\n",
    "    print(param.asnumpy())"
   ]
  },
  {
   "cell_type": "markdown",
   "id": "2a97e99f",
   "metadata": {},
   "source": [
    "## Loss Function"
   ]
  },
  {
   "cell_type": "code",
   "execution_count": 53,
   "id": "cc9a9b11",
   "metadata": {},
   "outputs": [
    {
     "name": "stdout",
     "output_type": "stream",
     "text": [
      "loss: 1.5\n",
      "loss_sum: 9.0\n",
      "loss_none: [[1. 0. 2.]\n",
      " [1. 2. 3.]]\n"
     ]
    }
   ],
   "source": [
    "import numpy as np\n",
    "from mindspore import nn\n",
    "from mindspore import Tensor\n",
    "\n",
    "# Output a mean loss value.\n",
    "loss = nn.L1Loss()\n",
    "# Output a sum loss value.\n",
    "loss_sum = nn.L1Loss(reduction='sum')\n",
    "# Output the original loss value.\n",
    "loss_none = nn.L1Loss(reduction='none')\n",
    "\n",
    "input_data = Tensor(np.array([[1, 2, 3], [2, 3, 4]]).astype(np.float32))\n",
    "target_data = Tensor(np.array([[0, 2, 5], [3, 1, 1]]).astype(np.float32))\n",
    "\n",
    "print(\"loss:\", loss(input_data, target_data))\n",
    "print(\"loss_sum:\", loss_sum(input_data, target_data))\n",
    "print(\"loss_none:\", loss_none(input_data, target_data))"
   ]
  },
  {
   "cell_type": "code",
   "execution_count": 54,
   "id": "f9920a6f",
   "metadata": {},
   "outputs": [
    {
     "name": "stdout",
     "output_type": "stream",
     "text": [
      "0.033333335\n"
     ]
    }
   ],
   "source": [
    "from mindspore import ops\n",
    "import mindspore as ms\n",
    "\n",
    "class MAELoss(nn.Cell):\n",
    "    \"\"\"Customize the loss function MAELoss.\"\"\"\n",
    "    def construct(self, base, target):\n",
    "        return ops.abs(base - target).mean()\n",
    "\n",
    "loss = MAELoss()\n",
    "\n",
    "input_data = Tensor(np.array([0.1, 0.2, 0.3]).astype(np.float32))  # Generate a predicted value.\n",
    "target_data = Tensor(np.array([0.1, 0.2, 0.2]).astype(np.float32)) # Generate the actual value.\n",
    "\n",
    "output = loss(input_data, target_data)\n",
    "print(output)"
   ]
  },
  {
   "cell_type": "code",
   "execution_count": 55,
   "id": "f04c8e12",
   "metadata": {},
   "outputs": [
    {
     "name": "stdout",
     "output_type": "stream",
     "text": [
      "0.033333335\n"
     ]
    }
   ],
   "source": [
    "class MAELoss(nn.LossBase):\n",
    "    \"\"\"Customize the loss function MAELoss.\"\"\"\n",
    "    def construct(self, base, target):\n",
    "        x = ops.abs(base - target)\n",
    "        return self.get_loss(x)  # Return the mean loss value.\n",
    "\n",
    "loss = MAELoss()\n",
    "\n",
    "input_data = Tensor(np.array([0.1, 0.2, 0.3]).astype(np.float32)) # Generate a predicted value.\n",
    "target_data = Tensor(np.array([0.1, 0.2, 0.2]).astype(np.float32)) # Generate the actual value.\n",
    "\n",
    "output = loss(input_data, target_data)\n",
    "print(output)"
   ]
  },
  {
   "cell_type": "code",
   "execution_count": 56,
   "id": "0d763edf",
   "metadata": {},
   "outputs": [
    {
     "name": "stdout",
     "output_type": "stream",
     "text": [
      "epoch: 1 step: 10, loss is 4.642879486083984\n",
      "epoch: 2 step: 10, loss is 3.277451753616333\n",
      "epoch: 3 step: 10, loss is 2.5152628421783447\n",
      "epoch: 4 step: 10, loss is 2.0798916816711426\n",
      "epoch: 5 step: 10, loss is 1.8144643306732178\n",
      "epoch: 6 step: 10, loss is 1.4661636352539062\n",
      "epoch: 7 step: 10, loss is 0.9103214740753174\n",
      "epoch: 8 step: 10, loss is 0.8166921734809875\n",
      "epoch: 9 step: 10, loss is 0.5158721208572388\n",
      "epoch: 10 step: 10, loss is 0.9821990132331848\n"
     ]
    }
   ],
   "source": [
    "from mindspore.train import Model, LossMonitor\n",
    "from mindspore.dataset import GeneratorDataset\n",
    "\n",
    "def get_data(num, w=2.0, b=3.0):\n",
    "    \"\"\"Generate data and corresponding labels.\"\"\"\n",
    "    for _ in range(num):\n",
    "        x = np.random.uniform(-10.0, 10.0)\n",
    "        noise = np.random.normal(0, 1)\n",
    "        y = x * w + b + noise\n",
    "        yield np.array([x]).astype(np.float32), np.array([y]).astype(np.float32)\n",
    "\n",
    "def create_dataset(num_data, batch_size=16):\n",
    "    \"\"\"Load the dataset.\"\"\"\n",
    "    dataset = GeneratorDataset(list(get_data(num_data)), column_names=['data', 'label'])\n",
    "    dataset = dataset.batch(batch_size)\n",
    "    return dataset\n",
    "\n",
    "train_dataset = create_dataset(num_data=160)\n",
    "network = nn.Dense(1, 1)\n",
    "loss_fn = MAELoss()\n",
    "optimizer = nn.Momentum(network.trainable_params(), learning_rate=0.005, momentum=0.9)\n",
    "\n",
    "# Use the model API to associate the network, loss function, and optimizer.\n",
    "model = Model(network, loss_fn, optimizer)\n",
    "model.train(10, train_dataset, callbacks=[LossMonitor(10)])"
   ]
  },
  {
   "cell_type": "code",
   "execution_count": 57,
   "id": "c02f2973",
   "metadata": {},
   "outputs": [],
   "source": [
    "def get_multilabel_data(num, w=2.0, b=3.0):\n",
    "    for _ in range(num):\n",
    "        x = np.random.uniform(-10.0, 10.0)\n",
    "        noise1 = np.random.normal(0, 1)\n",
    "        noise2 = np.random.normal(-1, 1)\n",
    "        y1 = x * w + b + noise1\n",
    "        y2 = x * w + b + noise2\n",
    "        yield np.array([x]).astype(np.float32), np.array([y1]).astype(np.float32), np.array([y2]).astype(np.float32)\n",
    "\n",
    "def create_multilabel_dataset(num_data, batch_size=16):\n",
    "    dataset = GeneratorDataset(list(get_multilabel_data(num_data)), column_names=['data', 'label1', 'label2'])\n",
    "    dataset = dataset.batch(batch_size) # Each batch has 16 pieces of data.\n",
    "    return dataset"
   ]
  },
  {
   "cell_type": "code",
   "execution_count": 58,
   "id": "878532ac",
   "metadata": {},
   "outputs": [],
   "source": [
    "class MAELossForMultiLabel(nn.LossBase):\n",
    "\n",
    "    def construct(self, base, target1, target2):\n",
    "        x1 = ops.abs(base - target1)\n",
    "        x2 = ops.abs(base - target2)\n",
    "        return (self.get_loss(x1) + self.get_loss(x2)) / 2"
   ]
  },
  {
   "cell_type": "code",
   "execution_count": 59,
   "id": "f025ad4b",
   "metadata": {},
   "outputs": [
    {
     "name": "stdout",
     "output_type": "stream",
     "text": [
      "Epoch 1\n",
      "-------------------------------\n",
      "loss: 0.944074  [  0/ 10]\n",
      "loss: 0.899381  [  2/ 10]\n",
      "loss: 0.909936  [  4/ 10]\n",
      "loss: 0.901096  [  6/ 10]\n",
      "loss: 0.947869  [  8/ 10]\n",
      "Epoch 2\n",
      "-------------------------------\n",
      "loss: 0.819827  [  0/ 10]\n",
      "loss: 1.177774  [  2/ 10]\n",
      "loss: 0.742820  [  4/ 10]\n",
      "loss: 1.015952  [  6/ 10]\n",
      "loss: 0.771378  [  8/ 10]\n",
      "Epoch 3\n",
      "-------------------------------\n",
      "loss: 0.874665  [  0/ 10]\n",
      "loss: 1.229849  [  2/ 10]\n",
      "loss: 1.042351  [  4/ 10]\n",
      "loss: 0.794486  [  6/ 10]\n",
      "loss: 0.668077  [  8/ 10]\n",
      "Epoch 4\n",
      "-------------------------------\n",
      "loss: 0.877751  [  0/ 10]\n",
      "loss: 0.729632  [  2/ 10]\n",
      "loss: 0.786010  [  4/ 10]\n",
      "loss: 0.936999  [  6/ 10]\n",
      "loss: 0.806662  [  8/ 10]\n",
      "Epoch 5\n",
      "-------------------------------\n",
      "loss: 0.836586  [  0/ 10]\n",
      "loss: 0.755157  [  2/ 10]\n",
      "loss: 0.770420  [  4/ 10]\n",
      "loss: 0.843915  [  6/ 10]\n",
      "loss: 0.944966  [  8/ 10]\n",
      "Done!\n"
     ]
    }
   ],
   "source": [
    "train_dataset = create_multilabel_dataset(num_data=160)\n",
    "\n",
    "# Define a multi-label loss function.\n",
    "loss_fn = MAELossForMultiLabel()\n",
    "# Define the optimizer.\n",
    "opt = nn.Momentum(network.trainable_params(), learning_rate=0.005, momentum=0.9)\n",
    "\n",
    "# Define forward function\n",
    "def forward_fn(data, label1, label2):\n",
    "    output = network(data)\n",
    "    return loss_fn(output, label1, label2)\n",
    "\n",
    "# Get gradient function\n",
    "grad_fn = ms.value_and_grad(forward_fn, None, optimizer.parameters)\n",
    "\n",
    "# Define function of one-step training\n",
    "def train_step(data, label1, label2):\n",
    "    loss, grads = grad_fn(data, label1, label2)\n",
    "    optimizer(grads)\n",
    "    return loss\n",
    "\n",
    "def train(model, dataset):\n",
    "    size = dataset.get_dataset_size()\n",
    "    model.set_train()\n",
    "    for batch, (data, label1, label2) in enumerate(dataset.create_tuple_iterator()):\n",
    "        loss = train_step(data, label1, label2)\n",
    "\n",
    "        if batch % 2 == 0:\n",
    "            loss, current = loss.asnumpy(), batch\n",
    "            print(f\"loss: {loss:>7f}  [{current:>3d}/{size:>3d}]\")\n",
    "\n",
    "epochs = 5\n",
    "for t in range(epochs):\n",
    "    print(f\"Epoch {t+1}\\n-------------------------------\")\n",
    "    train(network, train_dataset)\n",
    "print(\"Done!\")"
   ]
  },
  {
   "cell_type": "markdown",
   "id": "5cfeeee1",
   "metadata": {},
   "source": [
    "## Optimizer"
   ]
  },
  {
   "cell_type": "code",
   "execution_count": 60,
   "id": "94906968",
   "metadata": {},
   "outputs": [
    {
     "name": "stdout",
     "output_type": "stream",
     "text": [
      "[Parameter (name=param, shape=(1,), dtype=Float32, requires_grad=True), Parameter (name=conv.weight, shape=(6, 1, 5, 5), dtype=Float32, requires_grad=True)]\n"
     ]
    }
   ],
   "source": [
    "import numpy as np\n",
    "import mindspore\n",
    "from mindspore import nn, ops\n",
    "from mindspore import Tensor, Parameter\n",
    "\n",
    "class Net(nn.Cell):\n",
    "    def __init__(self):\n",
    "        super().__init__()\n",
    "        self.conv = nn.Conv2d(1, 6, 5, pad_mode=\"valid\")\n",
    "        self.param = Parameter(Tensor(np.array([1.0], np.float32)), 'param')\n",
    "\n",
    "    def construct(self, x):\n",
    "        x = self.conv(x)\n",
    "        x = x * self.param\n",
    "        out = ops.matmul(x, x)\n",
    "        return out\n",
    "\n",
    "net = Net()\n",
    "\n",
    "# Parameters to be updated for the configuration optimizer\n",
    "optim = nn.Adam(params=net.trainable_params())\n",
    "print(net.trainable_params())"
   ]
  },
  {
   "cell_type": "code",
   "execution_count": 61,
   "id": "84eee6ad",
   "metadata": {},
   "outputs": [
    {
     "name": "stdout",
     "output_type": "stream",
     "text": [
      "[Parameter (name=param, shape=(1,), dtype=Float32, requires_grad=True)]\n"
     ]
    }
   ],
   "source": [
    "conv_params = [param for param in net.get_parameters() if 'conv' in param.name]\n",
    "for conv_param in conv_params:\n",
    "    conv_param.requires_grad = False\n",
    "print(net.trainable_params())\n",
    "optim = nn.Adam(params=net.trainable_params())"
   ]
  },
  {
   "cell_type": "code",
   "execution_count": 62,
   "id": "0bb41c1f",
   "metadata": {},
   "outputs": [],
   "source": [
    "# Set the learning rate to 0.01.\n",
    "optim = nn.Momentum(params=net.trainable_params(), learning_rate=0.01, momentum=0.9)"
   ]
  },
  {
   "cell_type": "code",
   "execution_count": 63,
   "id": "e10cfdcd",
   "metadata": {},
   "outputs": [
    {
     "name": "stdout",
     "output_type": "stream",
     "text": [
      "[0.1, 0.05, 0.05, 0.01, 0.01, 0.01, 0.01, 0.01, 0.01, 0.01]\n"
     ]
    }
   ],
   "source": [
    "milestone = [1, 3, 10]\n",
    "learning_rates = [0.1, 0.05, 0.01]\n",
    "lr = nn.piecewise_constant_lr(milestone, learning_rates)\n",
    "\n",
    "# Print the learning rate.\n",
    "print(lr)\n",
    "\n",
    "net = Net()\n",
    "# The optimizer sets the network parameters to be optimized and the piecewise constant learning rate.\n",
    "optim = nn.SGD(net.trainable_params(), learning_rate=lr)"
   ]
  },
  {
   "cell_type": "code",
   "execution_count": 65,
   "id": "13576639",
   "metadata": {},
   "outputs": [
    {
     "name": "stdout",
     "output_type": "stream",
     "text": [
      "step1, lr:0.1\n",
      "step2, lr:0.097400375\n",
      "step3, lr:0.094868325\n",
      "step4, lr:0.09240211\n"
     ]
    }
   ],
   "source": [
    "learning_rate = 0.1  # Initial value of the learning rate\n",
    "decay_rate = 0.9     # Decay rate\n",
    "decay_steps = 4      #Number of decay steps\n",
    "step_per_epoch = 2\n",
    "\n",
    "exponential_decay_lr = nn.ExponentialDecayLR(learning_rate, decay_rate, decay_steps)\n",
    "\n",
    "for i in range(decay_steps):\n",
    "    step = Tensor(i, mindspore.int32)\n",
    "    result = exponential_decay_lr(step)\n",
    "    print(f\"step{i+1}, lr:{result}\")\n",
    "\n",
    "net = Net()\n",
    "\n",
    "# The optimizer sets the learning rate and computes the learning rate based on the exponential decay function.\n",
    "optim = nn.Momentum(net.trainable_params(), learning_rate=exponential_decay_lr, momentum=0.9)"
   ]
  },
  {
   "cell_type": "code",
   "execution_count": 66,
   "id": "097851f8",
   "metadata": {},
   "outputs": [],
   "source": [
    "net = Net()\n",
    "optimizer = nn.Momentum(net.trainable_params(), learning_rate=0.01,\n",
    "                        momentum=0.9, weight_decay=0.9)"
   ]
  },
  {
   "cell_type": "code",
   "execution_count": 67,
   "id": "98ab3603",
   "metadata": {},
   "outputs": [],
   "source": [
    "from mindspore.nn import Cell\n",
    "from mindspore import ops, nn\n",
    "import mindspore as ms\n",
    "\n",
    "class ExponentialWeightDecay(Cell):\n",
    "\n",
    "    def __init__(self, weight_decay, decay_rate, decay_steps):\n",
    "        super(ExponentialWeightDecay, self).__init__()\n",
    "        self.weight_decay = weight_decay\n",
    "        self.decay_rate = decay_rate\n",
    "        self.decay_steps = decay_steps\n",
    "\n",
    "    def construct(self, global_step):\n",
    "        # The `construct` can have only one input. During training, the global step is automatically transferred for computation.\n",
    "        p = global_step / self.decay_steps\n",
    "        return self.weight_decay * ops.pow(self.decay_rate, p)\n",
    "\n",
    "net = Net()\n",
    "\n",
    "weight_decay = ExponentialWeightDecay(weight_decay=0.0001, decay_rate=0.1, decay_steps=10000)\n",
    "optimizer = nn.Momentum(net.trainable_params(), learning_rate=0.01,\n",
    "                        momentum=0.9, weight_decay=weight_decay)"
   ]
  },
  {
   "cell_type": "code",
   "execution_count": 68,
   "id": "bc05f3de",
   "metadata": {},
   "outputs": [],
   "source": [
    "net = Net()\n",
    "\n",
    "# Convolutional parameter\n",
    "conv_params = list(filter(lambda x: 'conv' in x.name, net.trainable_params()))\n",
    "# Non-convolutional parameter\n",
    "no_conv_params = list(filter(lambda x: 'conv' not in x.name, net.trainable_params()))\n",
    "\n",
    "# Fixed learning rate\n",
    "fix_lr = 0.01\n",
    "\n",
    "# Computation of Learning Rate Based on Polynomial Decay Function\n",
    "polynomial_decay_lr = nn.PolynomialDecayLR(learning_rate=0.1,      # Initial learning rate\n",
    "                                           end_learning_rate=0.01, # Final the learning rate\n",
    "                                           decay_steps=4,          #Number of decay steps\n",
    "                                           power=0.5)              # Polynomial power\n",
    "\n",
    "# The convolutional parameter uses a fixed learning rate of 0.001, and the weight decay is 0.01.\n",
    "# The non-convolutional parameter uses a dynamic learning rate, and the weight decay is 0.0.\n",
    "group_params = [{'params': conv_params, 'weight_decay': 0.01, 'lr': fix_lr},\n",
    "                {'params': no_conv_params, 'lr': polynomial_decay_lr}]\n",
    "\n",
    "optim = nn.Momentum(group_params, learning_rate=0.1, momentum=0.9, weight_decay=0.0)"
   ]
  },
  {
   "cell_type": "code",
   "execution_count": 69,
   "id": "ddb93d12",
   "metadata": {},
   "outputs": [],
   "source": [
    "class Momentum(nn.Optimizer):\n",
    "    \"\"\"Define the optimizer.\"\"\"\n",
    "    def __init__(self, params, learning_rate, momentum=0.9):\n",
    "        super(Momentum, self).__init__(learning_rate, params)\n",
    "        self.momentum = Parameter(Tensor(momentum, ms.float32), name=\"momentum\")\n",
    "        self.moments = self.parameters.clone(prefix=\"moments\", init=\"zeros\")\n",
    "\n",
    "    def construct(self, gradients):\n",
    "        \"\"\"The input of construct is gradient. Gradients are automatically transferred during training.\"\"\"\n",
    "        lr = self.get_lr()\n",
    "        params = self.parameters # Weight parameter to be updated\n",
    "\n",
    "        for i in range(len(params)):\n",
    "            # Update the moments value.\n",
    "            ops.assign(self.moments[i], self.moments[i] * self.momentum + gradients[i])\n",
    "            update = params[i] - self.moments[i] * lr # SGD algorithm with momentum\n",
    "            ops.assign(params[i], update)\n",
    "        return params\n",
    "\n",
    "net = Net()\n",
    "# Set the parameter to be optimized and the learning rate of the optimizer to 0.01.\n",
    "opt = Momentum(net.trainable_params(), 0.01)"
   ]
  },
  {
   "cell_type": "code",
   "execution_count": 70,
   "id": "0930571e",
   "metadata": {},
   "outputs": [],
   "source": [
    "class Momentum(nn.Optimizer):\n",
    "    \"\"\"Define the optimizer.\"\"\"\n",
    "    def __init__(self, params, learning_rate, momentum=0.9):\n",
    "        super(Momentum, self).__init__(learning_rate, params)\n",
    "        self.moments = self.parameters.clone(prefix=\"moments\", init=\"zeros\")\n",
    "        self.momentum = momentum\n",
    "        self.opt = ops.ApplyMomentum()\n",
    "\n",
    "    def construct(self, gradients):\n",
    "        # Weight parameter to be updated\n",
    "        params = self.parameters\n",
    "        success = None\n",
    "        for param, mom, grad in zip(params, self.moments, gradients):\n",
    "            success = self.opt(param, mom, self.learning_rate, grad, self.momentum)\n",
    "        return success\n",
    "\n",
    "net = Net()\n",
    "# Set the parameter to be optimized and the learning rate of the optimizer to 0.01.\n",
    "opt = Momentum(net.trainable_params(), 0.01)"
   ]
  },
  {
   "cell_type": "markdown",
   "id": "617f44d0",
   "metadata": {},
   "source": [
    "## Data Sampling"
   ]
  },
  {
   "cell_type": "code",
   "execution_count": 72,
   "id": "04230f73",
   "metadata": {},
   "outputs": [
    {
     "name": "stdout",
     "output_type": "stream",
     "text": [
      "With Replacement:    7 4 8 5 4 \n",
      "Without Replacement: 5 7 8 6 2 "
     ]
    }
   ],
   "source": [
    "from mindspore.dataset import RandomSampler, NumpySlicesDataset\n",
    "\n",
    "np_data = [1, 2, 3, 4, 5, 6, 7, 8]  # Dataset\n",
    "\n",
    "# Define a sampler with replacement to sample five pieces of data.\n",
    "sampler1 = RandomSampler(replacement=True, num_samples=5)\n",
    "dataset1 = NumpySlicesDataset(np_data, column_names=[\"data\"], sampler=sampler1)\n",
    "\n",
    "print(\"With Replacement:    \", end='')\n",
    "for data in dataset1.create_tuple_iterator(output_numpy=True):\n",
    "    print(data[0], end=' ')\n",
    "\n",
    "# Define a sampler without replacement to sample five pieces of data.\n",
    "sampler2 = RandomSampler(replacement=False, num_samples=5)\n",
    "dataset2 = NumpySlicesDataset(np_data, column_names=[\"data\"], sampler=sampler2)\n",
    "\n",
    "print(\"\\nWithout Replacement: \", end='')\n",
    "for data in dataset2.create_tuple_iterator(output_numpy=True):\n",
    "    print(data[0], end=' ')"
   ]
  },
  {
   "cell_type": "code",
   "execution_count": 73,
   "id": "a9b6cf86",
   "metadata": {},
   "outputs": [
    {
     "name": "stdout",
     "output_type": "stream",
     "text": [
      "Image shape: (32, 32, 3) , Label: 6\n",
      "Image shape: (32, 32, 3) , Label: 9\n",
      "Image shape: (32, 32, 3) , Label: 9\n",
      "Image shape: (32, 32, 3) , Label: 9\n",
      "Image shape: (32, 32, 3) , Label: 9\n",
      "Image shape: (32, 32, 3) , Label: 6\n"
     ]
    },
    {
     "data": {
      "image/png": "[encoded data removed]",
      "text/plain": [
       "<Figure size 640x480 with 6 Axes>"
      ]
     },
     "metadata": {},
     "output_type": "display_data"
    }
   ],
   "source": [
    "import math\n",
    "import matplotlib.pyplot as plt\n",
    "from mindspore.dataset import WeightedRandomSampler, Cifar10Dataset\n",
    "%matplotlib inline\n",
    "\n",
    "DATA_DIR = \"./cifar-10-batches-bin/\"\n",
    "\n",
    "# Specify the sampling probability of the first 10 samples and sample them.\n",
    "weights = [0.8, 0.5, 0, 0, 0, 0, 0, 0, 0, 0]\n",
    "sampler = WeightedRandomSampler(weights, num_samples=6)\n",
    "dataset = Cifar10Dataset(DATA_DIR, sampler=sampler)  # Load data.\n",
    "\n",
    "def plt_result(dataset, row):\n",
    "    \"\"\"Display the sampling result.\"\"\"\n",
    "    num = 1\n",
    "    for data in dataset.create_dict_iterator(output_numpy=True):\n",
    "        print(\"Image shape:\", data['image'].shape, \", Label:\", data['label'])\n",
    "        plt.subplot(row, math.ceil(dataset.get_dataset_size() / row), num)\n",
    "        image = data['image']\n",
    "        plt.imshow(image, interpolation=\"None\")\n",
    "        num += 1\n",
    "\n",
    "plt_result(dataset, 2)"
   ]
  },
  {
   "cell_type": "code",
   "execution_count": 74,
   "id": "0f5135eb",
   "metadata": {},
   "outputs": [
    {
     "name": "stdout",
     "output_type": "stream",
     "text": [
      "Image shape: (32, 32, 3) , Label: 9\n",
      "Image shape: (32, 32, 3) , Label: 4\n",
      "Image shape: (32, 32, 3) , Label: 1\n",
      "Image shape: (32, 32, 3) , Label: 9\n",
      "Image shape: (32, 32, 3) , Label: 6\n",
      "Image shape: (32, 32, 3) , Label: 1\n"
     ]
    },
    {
     "data": {
      "image/png": "[encoded data removed]",
      "text/plain": [
       "<Figure size 640x480 with 6 Axes>"
      ]
     },
     "metadata": {},
     "output_type": "display_data"
    }
   ],
   "source": [
    "from mindspore.dataset import SubsetRandomSampler\n",
    "\n",
    "# Specify a sample index subset.\n",
    "indices = [0, 1, 2, 3, 4, 5, 6, 7, 8, 9]\n",
    "sampler = SubsetRandomSampler(indices, num_samples=6)\n",
    "# Load data.\n",
    "dataset = Cifar10Dataset(DATA_DIR, sampler=sampler)\n",
    "\n",
    "plt_result(dataset, 2)"
   ]
  },
  {
   "cell_type": "code",
   "execution_count": 75,
   "id": "1c2021ef",
   "metadata": {},
   "outputs": [
    {
     "name": "stdout",
     "output_type": "stream",
     "text": [
      "Image shape: (32, 32, 3) , Label: 0\n",
      "Image shape: (32, 32, 3) , Label: 0\n",
      "Image shape: (32, 32, 3) , Label: 1\n",
      "Image shape: (32, 32, 3) , Label: 1\n",
      "Image shape: (32, 32, 3) , Label: 2\n",
      "Image shape: (32, 32, 3) , Label: 2\n",
      "Image shape: (32, 32, 3) , Label: 3\n",
      "Image shape: (32, 32, 3) , Label: 3\n",
      "Image shape: (32, 32, 3) , Label: 4\n",
      "Image shape: (32, 32, 3) , Label: 4\n"
     ]
    },
    {
     "data": {
      "image/png": "[encoded data removed]",
      "text/plain": [
       "<Figure size 640x480 with 10 Axes>"
      ]
     },
     "metadata": {},
     "output_type": "display_data"
    }
   ],
   "source": [
    "from mindspore.dataset import PKSampler\n",
    "\n",
    "# 2 samples for each category, up to 10 samples.\n",
    "sampler = PKSampler(num_val=2, class_column='label', num_samples=10)\n",
    "dataset = Cifar10Dataset(DATA_DIR, sampler=sampler)\n",
    "\n",
    "plt_result(dataset, 3)"
   ]
  },
  {
   "cell_type": "code",
   "execution_count": 76,
   "id": "fe9d6ec7",
   "metadata": {},
   "outputs": [
    {
     "name": "stdout",
     "output_type": "stream",
     "text": [
      "{'data': Tensor(shape=[], dtype=Int64, value= 0)}\n",
      "{'data': Tensor(shape=[], dtype=Int64, value= 4)}\n",
      "{'data': Tensor(shape=[], dtype=Int64, value= 8)}\n"
     ]
    }
   ],
   "source": [
    "from mindspore.dataset import DistributedSampler\n",
    "\n",
    "# Customize the dataset.\n",
    "data_source = [0, 1, 2, 3, 4, 5, 6, 7, 8, 9, 10, 11]\n",
    "\n",
    "# Divide the constructed dataset into four slices, and sample 3 samples in total.\n",
    "sampler = DistributedSampler(num_shards=4, shard_id=0, shuffle=False, num_samples=3)\n",
    "dataset = NumpySlicesDataset(data_source, column_names=[\"data\"], sampler=sampler)\n",
    "\n",
    "# Print the dataset.\n",
    "for data in dataset.create_dict_iterator():\n",
    "    print(data)"
   ]
  },
  {
   "cell_type": "code",
   "execution_count": 77,
   "id": "a08eff48",
   "metadata": {},
   "outputs": [
    {
     "name": "stdout",
     "output_type": "stream",
     "text": [
      "a c e g i "
     ]
    }
   ],
   "source": [
    "import mindspore.dataset as ds\n",
    "\n",
    "# Customize a sampler.\n",
    "class MySampler(ds.Sampler):\n",
    "    def __iter__(self):\n",
    "        for i in range(0, 10, 2):\n",
    "            yield i\n",
    "\n",
    "# Customize a dataset.\n",
    "np_data = ['a', 'b', 'c', 'd', 'e', 'f', 'g', 'h', 'i', 'j', 'k', 'l']\n",
    "\n",
    "# Load data.\n",
    "dataset = ds.NumpySlicesDataset(np_data, column_names=[\"data\"], sampler=MySampler())\n",
    "for data in dataset.create_tuple_iterator(output_numpy=True):\n",
    "    print(data[0], end=' ')"
   ]
  },
  {
   "cell_type": "code",
   "execution_count": 78,
   "id": "96b84bce",
   "metadata": {},
   "outputs": [
    {
     "name": "stdout",
     "output_type": "stream",
     "text": [
      "d e d c a l f f f j b l l l l i "
     ]
    }
   ],
   "source": [
    "import mindspore.dataset as ds\n",
    "\n",
    "class MySampler():\n",
    "    def __init__(self):\n",
    "        self.index_ids = [3, 4, 3, 2, 0, 11, 5, 5, 5, 9, 1, 11, 11, 11, 11, 8]\n",
    "    def __getitem__(self, index):\n",
    "        return self.index_ids[index]\n",
    "    def __len__(self):\n",
    "        return len(self.index_ids)\n",
    "\n",
    "# Customize a dataset.\n",
    "np_data = ['a', 'b', 'c', 'd', 'e', 'f', 'g', 'h', 'i', 'j', 'k', 'l']\n",
    "\n",
    "# Load data.\n",
    "dataset = ds.NumpySlicesDataset(np_data, column_names=[\"data\"], sampler=MySampler())\n",
    "for data in dataset.create_tuple_iterator(output_numpy=True):\n",
    "    print(data[0], end=' ')"
   ]
  },
  {
   "cell_type": "markdown",
   "id": "5979dedf",
   "metadata": {},
   "source": [
    "## Converting Dataset to MindRecord"
   ]
  },
  {
   "cell_type": "code",
   "execution_count": 79,
   "id": "1e152f38",
   "metadata": {},
   "outputs": [
    {
     "data": {
      "text/plain": [
       "<MSRStatus.SUCCESS: 0>"
      ]
     },
     "execution_count": 79,
     "metadata": {},
     "output_type": "execute_result"
    }
   ],
   "source": [
    "from PIL import Image\n",
    "from io import BytesIO\n",
    "from mindspore.mindrecord import FileWriter\n",
    "\n",
    "file_name = \"test_vision.mindrecord\"\n",
    "# Define the contained fields\n",
    "cv_schema = {\"file_name\": {\"type\": \"string\"},\n",
    "             \"label\": {\"type\": \"int32\"},\n",
    "             \"data\": {\"type\": \"bytes\"}}\n",
    "\n",
    "# Declare the MindSpore Record file format\n",
    "writer = FileWriter(file_name, shard_num=1, overwrite=True)\n",
    "writer.add_schema(cv_schema, \"it is a cv dataset\")\n",
    "writer.add_index([\"file_name\", \"label\"])\n",
    "\n",
    "# Building a dataset\n",
    "data = []\n",
    "for i in range(100):\n",
    "    sample = {}\n",
    "    white_io = BytesIO()\n",
    "    Image.new('RGB', ((i+1)*10, (i+1)*10), (255, 255, 255)).save(white_io, 'JPEG')\n",
    "    image_bytes = white_io.getvalue()\n",
    "    sample['file_name'] = str(i+1) + \".jpg\"\n",
    "    sample['label'] = i+1\n",
    "    sample['data'] = white_io.getvalue()\n",
    "\n",
    "    data.append(sample)\n",
    "    if i % 10 == 0:\n",
    "        writer.write_raw_data(data)\n",
    "        data = []\n",
    "\n",
    "if data:\n",
    "    writer.write_raw_data(data)\n",
    "\n",
    "writer.commit()"
   ]
  },
  {
   "cell_type": "code",
   "execution_count": 80,
   "id": "ccb8d7f5",
   "metadata": {},
   "outputs": [
    {
     "name": "stdout",
     "output_type": "stream",
     "text": [
      "Got 100 samples\n"
     ]
    }
   ],
   "source": [
    "from mindspore.dataset import MindDataset\n",
    "from mindspore.dataset.vision import Decode\n",
    "\n",
    "# Read the MindSpore Record file format\n",
    "data_set = MindDataset(dataset_files=file_name)\n",
    "decode_op = Decode()\n",
    "data_set = data_set.map(operations=decode_op, input_columns=[\"data\"], num_parallel_workers=2)\n",
    "\n",
    "# Count the number of samples\n",
    "print(\"Got {} samples\".format(data_set.get_dataset_size()))"
   ]
  },
  {
   "cell_type": "code",
   "execution_count": 81,
   "id": "1b93533f",
   "metadata": {},
   "outputs": [
    {
     "data": {
      "text/plain": [
       "<MSRStatus.SUCCESS: 0>"
      ]
     },
     "execution_count": 81,
     "metadata": {},
     "output_type": "execute_result"
    }
   ],
   "source": [
    "import numpy as np\n",
    "from mindspore.mindrecord import FileWriter\n",
    "\n",
    "# The full path of the output MindSpore Record file\n",
    "file_name = \"test_text.mindrecord\"\n",
    "\n",
    "# Defines the fields that the sample data contains\n",
    "nlp_schema = {\"source_sos_ids\": {\"type\": \"int64\", \"shape\": [-1]},\n",
    "              \"source_sos_mask\": {\"type\": \"int64\", \"shape\": [-1]},\n",
    "              \"source_eos_ids\": {\"type\": \"int64\", \"shape\": [-1]},\n",
    "              \"source_eos_mask\": {\"type\": \"int64\", \"shape\": [-1]},\n",
    "              \"target_sos_ids\": {\"type\": \"int64\", \"shape\": [-1]},\n",
    "              \"target_sos_mask\": {\"type\": \"int64\", \"shape\": [-1]},\n",
    "              \"target_eos_ids\": {\"type\": \"int64\", \"shape\": [-1]},\n",
    "              \"target_eos_mask\": {\"type\": \"int64\", \"shape\": [-1]}}\n",
    "\n",
    "# Declare the MindSpore Record file format\n",
    "writer = FileWriter(file_name, shard_num=1, overwrite=True)\n",
    "writer.add_schema(nlp_schema, \"Preprocessed nlp dataset.\")\n",
    "\n",
    "# Build a virtual dataset\n",
    "data = []\n",
    "for i in range(100):\n",
    "    sample = {\"source_sos_ids\": np.array([i, i + 1, i + 2, i + 3, i + 4], dtype=np.int64),\n",
    "              \"source_sos_mask\": np.array([i * 1, i * 2, i * 3, i * 4, i * 5, i * 6, i * 7], dtype=np.int64),\n",
    "              \"source_eos_ids\": np.array([i + 5, i + 6, i + 7, i + 8, i + 9, i + 10], dtype=np.int64),\n",
    "              \"source_eos_mask\": np.array([19, 20, 21, 22, 23, 24, 25, 26, 27], dtype=np.int64),\n",
    "              \"target_sos_ids\": np.array([28, 29, 30, 31, 32], dtype=np.int64),\n",
    "              \"target_sos_mask\": np.array([33, 34, 35, 36, 37, 38], dtype=np.int64),\n",
    "              \"target_eos_ids\": np.array([39, 40, 41, 42, 43, 44, 45, 46, 47], dtype=np.int64),\n",
    "              \"target_eos_mask\": np.array([48, 49, 50, 51], dtype=np.int64)}\n",
    "    data.append(sample)\n",
    "\n",
    "    if i % 10 == 0:\n",
    "        writer.write_raw_data(data)\n",
    "        data = []\n",
    "\n",
    "if data:\n",
    "    writer.write_raw_data(data)\n",
    "\n",
    "writer.commit()"
   ]
  },
  {
   "cell_type": "code",
   "execution_count": 82,
   "id": "319a2326",
   "metadata": {},
   "outputs": [
    {
     "name": "stdout",
     "output_type": "stream",
     "text": [
      "Got 100 samples\n",
      "source_sos_ids: [0 1 2 3 4]\n",
      "source_sos_ids: [1 2 3 4 5]\n",
      "source_sos_ids: [2 3 4 5 6]\n",
      "source_sos_ids: [3 4 5 6 7]\n",
      "source_sos_ids: [4 5 6 7 8]\n",
      "source_sos_ids: [5 6 7 8 9]\n",
      "source_sos_ids: [ 6  7  8  9 10]\n",
      "source_sos_ids: [ 7  8  9 10 11]\n",
      "source_sos_ids: [ 8  9 10 11 12]\n",
      "source_sos_ids: [ 9 10 11 12 13]\n"
     ]
    }
   ],
   "source": [
    "from mindspore.dataset import MindDataset\n",
    "\n",
    "# Read MindSpore Record file format\n",
    "data_set = MindDataset(dataset_files=file_name, shuffle=False)\n",
    "\n",
    "# Count the number of samples\n",
    "print(\"Got {} samples\".format(data_set.get_dataset_size()))\n",
    "\n",
    "# Print the part of data\n",
    "count = 0\n",
    "for item in data_set.create_dict_iterator(output_numpy=True):\n",
    "    print(\"source_sos_ids:\", item[\"source_sos_ids\"])\n",
    "    count += 1\n",
    "    if count == 10:\n",
    "        break"
   ]
  },
  {
   "cell_type": "code",
   "execution_count": 84,
   "id": "acecc889",
   "metadata": {},
   "outputs": [],
   "source": [
    "from mindspore.dataset import Cifar10Dataset\n",
    "\n",
    "dataset = Cifar10Dataset(\"./cifar-10-batches-bin/\")  # load data\n",
    "dataset.save(\"cifar10.mindrecord\")"
   ]
  },
  {
   "cell_type": "code",
   "execution_count": 85,
   "id": "7f87c2d4",
   "metadata": {},
   "outputs": [
    {
     "name": "stdout",
     "output_type": "stream",
     "text": [
      "Got 60000 samples\n"
     ]
    }
   ],
   "source": [
    "import os\n",
    "from mindspore.dataset import MindDataset\n",
    "\n",
    "# Read MindSpore Record file format\n",
    "data_set = MindDataset(dataset_files=\"cifar10.mindrecord\")\n",
    "\n",
    "# Count the number of samples\n",
    "print(\"Got {} samples\".format(data_set.get_dataset_size()))\n",
    "\n",
    "if os.path.exists(\"cifar10.mindrecord\") and os.path.exists(\"cifar10.mindrecord.db\"):\n",
    "    os.remove(\"cifar10.mindrecord\")\n",
    "    os.remove(\"cifar10.mindrecord.db\")"
   ]
  },
  {
   "cell_type": "markdown",
   "id": "e53dca00",
   "metadata": {},
   "source": [
    "## Lightweight Data Processing"
   ]
  },
  {
   "cell_type": "code",
   "execution_count": 87,
   "id": "a006cdb2",
   "metadata": {},
   "outputs": [
    {
     "name": "stdout",
     "output_type": "stream",
     "text": [
      "Image.type: <class 'PIL.Image.Image'>, Image.shape: (356, 200)\n",
      "Image.type: <class 'PIL.Image.Image'>, Image.shape: (569, 320)\n",
      "Image.type: <class 'PIL.Image.Image'>, Image.shape: (280, 280)\n",
      "Image.type: <class 'PIL.Image.Image'>, Image.shape: (360, 360)\n"
     ]
    },
    {
     "data": {
      "image/png": "[encoded data removed]",
      "text/plain": [
       "<Figure size 640x480 with 2 Axes>"
      ]
     },
     "metadata": {},
     "output_type": "display_data"
    }
   ],
   "source": [
    "import numpy as np\n",
    "from PIL import Image\n",
    "import matplotlib.pyplot as plt\n",
    "import mindspore.dataset.vision as vision\n",
    "\n",
    "img_ori = Image.open(\"banana.jpg\").convert(\"RGB\")\n",
    "print(\"Image.type: {}, Image.shape: {}\".format(type(img_ori), img_ori.size))\n",
    "\n",
    "# Define a Resize op and execute it immediately\n",
    "op1 = vision.Resize(size=(320))\n",
    "img = op1(img_ori)\n",
    "print(\"Image.type: {}, Image.shape: {}\".format(type(img), img.size))\n",
    "\n",
    "# Define a CenterCrop op and execute it immediately\n",
    "op2 = vision.CenterCrop((280, 280))\n",
    "img = op2(img)\n",
    "print(\"Image.type: {}, Image.shape: {}\".format(type(img), img.size))\n",
    "\n",
    "# Define a Pad op and execute it immediately\n",
    "op3 = vision.Pad(40)\n",
    "img = op3(img)\n",
    "print(\"Image.type: {}, Image.shape: {}\".format(type(img), img.size))\n",
    "\n",
    "# Show the result\n",
    "plt.subplot(1, 2, 1)\n",
    "plt.imshow(img_ori)\n",
    "plt.title(\"original image\")\n",
    "plt.subplot(1, 2, 2)\n",
    "plt.imshow(img)\n",
    "plt.title(\"transformed image\")\n",
    "plt.show()"
   ]
  },
  {
   "cell_type": "code",
   "execution_count": 88,
   "id": "0566c1d8",
   "metadata": {},
   "outputs": [
    {
     "name": "stdout",
     "output_type": "stream",
     "text": [
      "Tokenize result: ['Welcome' 'to' 'Beijing' '!']\n",
      "ToNumber result: [123456], type: <class 'numpy.int32'>\n"
     ]
    }
   ],
   "source": [
    "import mindspore.dataset.text.transforms as text\n",
    "import mindspore as ms\n",
    "\n",
    "# Define a WhitespaceTokenizer op and execute it immediately\n",
    "txt = \"Welcome to Beijing !\"\n",
    "txt = text.WhitespaceTokenizer()(txt)\n",
    "print(\"Tokenize result: {}\".format(txt))\n",
    "\n",
    "# Define a ToNumber op and execute it immediately\n",
    "txt = [\"123456\"]\n",
    "to_number = text.ToNumber(ms.int32)\n",
    "txt = to_number(txt)\n",
    "print(\"ToNumber result: {}, type: {}\".format(txt, type(txt[0])))"
   ]
  },
  {
   "cell_type": "code",
   "execution_count": 89,
   "id": "016557fc",
   "metadata": {},
   "outputs": [
    {
     "name": "stdout",
     "output_type": "stream",
     "text": [
      "Fill result:  [0 0 0 0 0]\n",
      "OneHot result:  [0 0 1 0 0]\n"
     ]
    }
   ],
   "source": [
    "import numpy as np\n",
    "import mindspore.dataset.transforms as trans\n",
    "\n",
    "# Define a Fill op and execute it immediately\n",
    "data = np.array([1, 2, 3, 4, 5])\n",
    "fill = trans.Fill(0)\n",
    "data = fill(data)\n",
    "print(\"Fill result: \", data)\n",
    "\n",
    "# Define a OneHot op and execute it immediately\n",
    "label = np.array(2)\n",
    "onehot = trans.OneHot(num_classes=5)\n",
    "label = onehot(label)\n",
    "print(\"OneHot result: \", label)"
   ]
  },
  {
   "cell_type": "markdown",
   "id": "221c77f6",
   "metadata": {},
   "source": [
    "## Graph Data Loading and Processing"
   ]
  },
  {
   "cell_type": "code",
   "execution_count": 91,
   "id": "85508ac6",
   "metadata": {},
   "outputs": [
    {
     "name": "stdout",
     "output_type": "stream",
     "text": [
      "Downloading data from https://mindspore-website.obs.cn-north-4.myhuaweicloud.com/notebook/datasets/planetoid.tar.gz (11.7 MB)\n",
      "\n",
      "file_sizes: 100%|███████████████████████████| 12.2M/12.2M [00:17<00:00, 712kB/s]\n",
      "Extracting tar.gz file...\n",
      "Successfully downloaded / unzipped to ./\n"
     ]
    }
   ],
   "source": [
    "from download import download\n",
    "import os\n",
    "import shutil\n",
    "\n",
    "if not os.path.exists(\"./cora\"):\n",
    "    os.mkdir(\"./cora\")\n",
    "    if not os.path.exists(\"./planetoid\"):\n",
    "        url = \"https://mindspore-website.obs.cn-north-4.myhuaweicloud.com/notebook/datasets/planetoid.tar.gz\"\n",
    "        download(url, \"./\", kind=\"tar.gz\", replace=True)\n",
    "    content = os.listdir(\"./planetoid/data\")\n",
    "    new_content = []\n",
    "    for name in content:\n",
    "        if \"cora\" in name:\n",
    "            new_content.append(name)\n",
    "    for name in new_content:\n",
    "        path = \"./planetoid/data/\"+name\n",
    "        shutil.copy(path, \"./cora\")"
   ]
  },
  {
   "cell_type": "code",
   "execution_count": 92,
   "id": "57ab4b9b",
   "metadata": {},
   "outputs": [
    {
     "name": "stdout",
     "output_type": "stream",
     "text": [
      "Downloading data from https://mindspore-website.obs.cn-north-4.myhuaweicloud.com/notebook/datasets/graph_to_mindrecord.tar.gz (10 kB)\n",
      "\n",
      "file_sizes: 100%|██████████████████████████| 10.4k/10.4k [00:00<00:00, 1.42MB/s]\n",
      "Extracting tar.gz file...\n",
      "Successfully downloaded / unzipped to ./\n",
      "Namespace(graph_api_args='./cora', mindrecord_file='./cora_mindrecord/cora_mr', mindrecord_header_size_by_bit=18, mindrecord_page_size_by_bit=20, mindrecord_partitions=1, mindrecord_script='cora', mindrecord_workers=8, num_edge_tasks=1, num_node_tasks=1)\n",
      "Init writer  ...\n",
      "exec task 0, parallel: False ...\n",
      "Node task is 0\n",
      "transformed 512 record...\n",
      "transformed 1024 record...\n",
      "transformed 1536 record...\n",
      "transformed 2048 record...\n",
      "transformed 2560 record...\n",
      "Processed 2708 lines for nodes.\n",
      "transformed 2708 record...\n",
      "exec task 0, parallel: False ...\n",
      "Edge task is 0\n",
      "transformed 512 record...\n",
      "transformed 1024 record...\n",
      "transformed 1536 record...\n",
      "transformed 2048 record...\n",
      "transformed 2560 record...\n",
      "transformed 3072 record...\n",
      "transformed 3584 record...\n",
      "transformed 4096 record...\n",
      "transformed 4608 record...\n",
      "transformed 5120 record...\n",
      "transformed 5632 record...\n",
      "transformed 6144 record...\n",
      "transformed 6656 record...\n",
      "transformed 7168 record...\n",
      "transformed 7680 record...\n",
      "transformed 8192 record...\n",
      "transformed 8704 record...\n",
      "transformed 9216 record...\n",
      "transformed 9728 record...\n",
      "transformed 10240 record...\n",
      "transformed 10752 record...\n",
      "Processed 10858 lines for edges.\n",
      "transformed 10858 record...\n",
      "--------------------------------------------\n",
      "END. Total time: 9.675260305404663\n",
      "--------------------------------------------\n"
     ]
    }
   ],
   "source": [
    "if not os.path.exists(\"./cora_mindrecord\"):\n",
    "    os.mkdir(\"./cora_mindrecord\")\n",
    "    url = \"https://mindspore-website.obs.cn-north-4.myhuaweicloud.com/notebook/datasets/graph_to_mindrecord.tar.gz\"\n",
    "    download(url, \"./\", kind=\"tar.gz\", replace=True)\n",
    "    os.system('python graph_to_mindrecord/writer.py --mindrecord_script cora --mindrecord_file \"./cora_mindrecord/cora_mr\" --mindrecord_partitions 1 --mindrecord_header_size_by_bit 18 --mindrecord_page_size_by_bit 20 --graph_api_args \"./cora\"')"
   ]
  },
  {
   "cell_type": "code",
   "execution_count": 93,
   "id": "0c8bca76",
   "metadata": {},
   "outputs": [],
   "source": [
    "import mindspore.dataset as ds\n",
    "import numpy as np\n",
    "\n",
    "data_file = \"./cora_mindrecord/cora_mr\"\n",
    "dataset = ds.GraphData(data_file)"
   ]
  },
  {
   "cell_type": "code",
   "execution_count": 94,
   "id": "8fda5c26",
   "metadata": {},
   "outputs": [
    {
     "name": "stdout",
     "output_type": "stream",
     "text": [
      "graph info: {'node_type': [0], 'edge_type': [0], 'node_num': {0: 2708}, 'edge_num': {0: 10858}, 'node_feature_type': [1, 2], 'edge_feature_type': [], 'graph_feature_type': []}\n",
      "node shape: 2708\n",
      "features shape: (2708, 1433)\n",
      "labels shape: (2708,)\n",
      "labels: [3 4 4 ... 3 3 3]\n"
     ]
    }
   ],
   "source": [
    "# View the structure information in the graph.\n",
    "graph = dataset.graph_info()\n",
    "print(\"graph info:\", graph)\n",
    "\n",
    "# Obtain information about all nodes.\n",
    "nodes = dataset.get_all_nodes(0)\n",
    "nodes_list = nodes.tolist()\n",
    "print(\"node shape:\", len(nodes_list))\n",
    "\n",
    "# Obtain the feature and label information. A total of 2708 records are displayed.\n",
    "# The feature information in each piece of data is a binary representation of 1433 characters used to describe the paper i. The label information refers to the category of the paper.\n",
    "raw_tensor = dataset.get_node_feature(nodes_list, [1, 2])\n",
    "features, labels = raw_tensor[0], raw_tensor[1]\n",
    "\n",
    "print(\"features shape:\", features.shape)\n",
    "print(\"labels shape:\", labels.shape)\n",
    "print(\"labels:\", labels)"
   ]
  },
  {
   "cell_type": "code",
   "execution_count": 95,
   "id": "544fbdd1",
   "metadata": {},
   "outputs": [
    {
     "name": "stdout",
     "output_type": "stream",
     "text": [
      "neighbor:\n",
      " [[   0  633 1862 ...   -1   -1   -1]\n",
      " [   1    2  652 ...   -1   -1   -1]\n",
      " [   2 1986  332 ...   -1   -1   -1]\n",
      " ...\n",
      " [2705  287   -1 ...   -1   -1   -1]\n",
      " [2706  165 2707 ...   -1   -1   -1]\n",
      " [2707  598  165 ...   -1   -1   -1]]\n"
     ]
    }
   ],
   "source": [
    "neighbor = dataset.get_all_neighbors(nodes_list, 0)\n",
    "\n",
    "# The first column of neighbor is node_id, and the second to last columns store the neighboring nodes in the first column. If there are not so many neighboring nodes, fill them with -1.\n",
    "print(\"neighbor:\\n\", neighbor)"
   ]
  },
  {
   "cell_type": "code",
   "execution_count": 96,
   "id": "200f5097",
   "metadata": {},
   "outputs": [
    {
     "name": "stdout",
     "output_type": "stream",
     "text": [
      "adj:\n",
      " [[0. 0. 0. ... 0. 0. 0.]\n",
      " [0. 0. 1. ... 0. 0. 0.]\n",
      " [0. 1. 0. ... 0. 0. 0.]\n",
      " ...\n",
      " [0. 0. 0. ... 0. 0. 0.]\n",
      " [0. 0. 0. ... 0. 0. 1.]\n",
      " [0. 0. 0. ... 0. 1. 0.]]\n"
     ]
    }
   ],
   "source": [
    "nodes_num = labels.shape[0]\n",
    "node_map = {node_id: index for index, node_id in enumerate(nodes_list)}\n",
    "adj = np.zeros([nodes_num, nodes_num], dtype=np.float32)\n",
    "\n",
    "for index, value in np.ndenumerate(neighbor):\n",
    "    # The first column of neighbor is node_id, and the second to last columns store the neighboring nodes in the first column. If there are not so many neighboring nodes, fill them with -1.\n",
    "    if value >= 0 and index[1] > 0:\n",
    "        adj[node_map[neighbor[index[0], 0]], node_map[value]] = 1\n",
    "\n",
    "print(\"adj:\\n\", adj)"
   ]
  },
  {
   "cell_type": "code",
   "execution_count": 97,
   "id": "5500fbbe",
   "metadata": {},
   "outputs": [
    {
     "name": "stdout",
     "output_type": "stream",
     "text": [
      "neighbor:\n",
      " [[   0 1862  633]\n",
      " [   1  654  652]\n",
      " [   2 1454    1]\n",
      " [   3 2544 2544]\n",
      " [   4 1256 2176]\n",
      " [   5 1629 1659]\n",
      " [   6 1042 1602]\n",
      " [   7  208  208]\n",
      " [   8  269  281]\n",
      " [   9  723 2614]\n",
      " [  10 2545  476]\n",
      " [  11 1839 1655]\n",
      " [  12 2661 1318]\n",
      " [  13 1701 1810]\n",
      " [  14 2077 2668]\n",
      " [  15 1093 1093]\n",
      " [  16 1632 2642]\n",
      " [  17  927   24]\n",
      " [  18 1560  139]\n",
      " [  19 1939 1939]\n",
      " [  20 2375 2269]]\n",
      "walks:\n",
      " [[   0 2582]\n",
      " [   1  654]\n",
      " [   2 1666]\n",
      " [   3 2544]\n",
      " [   4 1256]\n",
      " [   5 1629]\n",
      " [   6 1042]\n",
      " [   7  208]\n",
      " [   8  269]\n",
      " [   9  723]\n",
      " [  10  476]\n",
      " [  11 1839]\n",
      " [  12 2662]\n",
      " [  13 1701]\n",
      " [  14 2668]\n",
      " [  15 1090]\n",
      " [  16 2642]\n",
      " [  17 1316]\n",
      " [  18  139]\n",
      " [  19 1939]\n",
      " [  20 2269]]\n"
     ]
    }
   ],
   "source": [
    "# Multi-hop neighborhood-based node neighbor sampling\n",
    "neighbor = dataset.get_sampled_neighbors(node_list=nodes_list[0:21], neighbor_nums=[2], neighbor_types=[0])\n",
    "print(\"neighbor:\\n\", neighbor)\n",
    "\n",
    "# Random walk-based node neighbor sampling\n",
    "meta_path = [0]\n",
    "walks = dataset.random_walk(nodes_list[0:21], meta_path)\n",
    "print(\"walks:\\n\", walks)"
   ]
  },
  {
   "cell_type": "code",
   "execution_count": 98,
   "id": "bcc1ea0a",
   "metadata": {},
   "outputs": [
    {
     "name": "stdout",
     "output_type": "stream",
     "text": [
      "part edges: [0 1 2 3 4 5 6 7 8 9]\n",
      "nodes: [[   0  633]\n",
      " [   0 1862]\n",
      " [   0 2582]\n",
      " [   1    2]\n",
      " [   1  652]\n",
      " [   1  654]\n",
      " [   2 1986]\n",
      " [   2  332]\n",
      " [   2 1666]\n",
      " [   2    1]]\n",
      "edges: [ 0  4  7 11]\n"
     ]
    }
   ],
   "source": [
    "# Obtain an edge through a node.\n",
    "part_edges = dataset.get_all_edges(0)[:10]\n",
    "nodes = dataset.get_nodes_from_edges(part_edges)\n",
    "print(\"part edges:\", part_edges)\n",
    "print(\"nodes:\", nodes)\n",
    "\n",
    "# Obtain a node through an edge.\n",
    "nodes_pair_list = [(0, 633), (1, 652), (2, 332), (3, 2544)]\n",
    "edges = dataset.get_edges_from_nodes(nodes_pair_list)\n",
    "print(\"edges:\", edges)"
   ]
  },
  {
   "cell_type": "markdown",
   "id": "e2f999ee",
   "metadata": {},
   "source": [
    "## Advanced Automatic Differentiation"
   ]
  },
  {
   "cell_type": "code",
   "execution_count": 99,
   "id": "2089ab89",
   "metadata": {},
   "outputs": [],
   "source": [
    "import numpy as np\n",
    "from mindspore import ops, Tensor\n",
    "import mindspore.nn as nn\n",
    "import mindspore as ms\n",
    "\n",
    "# Define the inputs x and y.\n",
    "x = Tensor([3.0], dtype=ms.float32)\n",
    "y = Tensor([5.0], dtype=ms.float32)\n",
    "\n",
    "\n",
    "class Net(nn.Cell):\n",
    "    def __init__(self):\n",
    "        super(Net, self).__init__()\n",
    "        self.z = ms.Parameter(ms.Tensor(np.array([1.0], np.float32)), name='z')\n",
    "\n",
    "    def construct(self, x, y):\n",
    "        out = x * x * y * self.z\n",
    "        return out"
   ]
  },
  {
   "cell_type": "code",
   "execution_count": 100,
   "id": "42bc84ab",
   "metadata": {},
   "outputs": [
    {
     "name": "stdout",
     "output_type": "stream",
     "text": [
      "(Tensor(shape=[1], dtype=Float32, value= [ 3.00000000e+01]), Tensor(shape=[1], dtype=Float32, value= [ 9.00000000e+00]))\n"
     ]
    }
   ],
   "source": [
    "net = Net()\n",
    "grad_fn = ms.grad(net, grad_position=(0, 1))\n",
    "gradients = grad_fn(x, y)\n",
    "print(gradients)"
   ]
  },
  {
   "cell_type": "code",
   "execution_count": 101,
   "id": "c38b0906",
   "metadata": {},
   "outputs": [
    {
     "name": "stdout",
     "output_type": "stream",
     "text": [
      "(Tensor(shape=[1], dtype=Float32, value= [ 4.50000000e+01]),)\n"
     ]
    }
   ],
   "source": [
    "params = ms.ParameterTuple(net.trainable_params())\n",
    "\n",
    "output = ms.grad(net, grad_position=None, weights=params)(x, y)\n",
    "print(output)"
   ]
  },
  {
   "cell_type": "code",
   "execution_count": 102,
   "id": "d68dcb85",
   "metadata": {},
   "outputs": [
    {
     "name": "stdout",
     "output_type": "stream",
     "text": [
      "16 (16, 1)\n"
     ]
    }
   ],
   "source": [
    "net = nn.Dense(10, 1)\n",
    "loss_fn = nn.MSELoss()\n",
    "\n",
    "\n",
    "def forward(inputs, labels):\n",
    "    logits = net(inputs)\n",
    "    loss = loss_fn(logits, labels)\n",
    "    return loss, logits\n",
    "\n",
    "\n",
    "inputs = Tensor(np.random.randn(16, 10).astype(np.float32))\n",
    "labels = Tensor(np.random.randn(16, 1).astype(np.float32))\n",
    "weights = net.trainable_params()\n",
    "\n",
    "# Aux value does not contribute to the gradient.\n",
    "grad_fn = ms.grad(forward, grad_position=0, weights=None, has_aux=True)\n",
    "inputs_gradient, (aux_logits,) = grad_fn(inputs, labels)\n",
    "print(len(inputs_gradient), aux_logits.shape)"
   ]
  },
  {
   "cell_type": "code",
   "execution_count": 103,
   "id": "7f63385c",
   "metadata": {},
   "outputs": [
    {
     "name": "stdout",
     "output_type": "stream",
     "text": [
      "[5.]\n"
     ]
    }
   ],
   "source": [
    "class Net(nn.Cell):\n",
    "\n",
    "    def __init__(self):\n",
    "        super(Net, self).__init__()\n",
    "\n",
    "    def construct(self, x, y):\n",
    "        out1 = x * y\n",
    "        out2 = x * y\n",
    "        out2 = ops.stop_gradient(out2) # Stop computing the gradient of the out2 operator.\n",
    "        out = out1 + out2\n",
    "        return out\n",
    "\n",
    "\n",
    "net = Net()\n",
    "grad_fn = ms.grad(net)\n",
    "output = grad_fn(x, y)\n",
    "print(output)"
   ]
  },
  {
   "cell_type": "code",
   "execution_count": 104,
   "id": "60327acd",
   "metadata": {},
   "outputs": [
    {
     "name": "stdout",
     "output_type": "stream",
     "text": [
      "[10.]\n"
     ]
    }
   ],
   "source": [
    "class Net(nn.Cell):\n",
    "    def __init__(self):\n",
    "        super(Net, self).__init__()\n",
    "\n",
    "    def construct(self, x, y):\n",
    "        out1 = x * y\n",
    "        out2 = x * y\n",
    "        # out2 = stop_gradient(out2)\n",
    "        out = out1 + out2\n",
    "        return out\n",
    "\n",
    "\n",
    "net = Net()\n",
    "grad_fn = ms.grad(net)\n",
    "output = grad_fn(x, y)\n",
    "print(output)"
   ]
  },
  {
   "cell_type": "code",
   "execution_count": 108,
   "id": "e35df09e",
   "metadata": {},
   "outputs": [
    {
     "name": "stdout",
     "output_type": "stream",
     "text": [
      "[-0.]\n"
     ]
    }
   ],
   "source": [
    "import numpy as np\n",
    "import mindspore.nn as nn\n",
    "import mindspore.ops as ops\n",
    "import mindspore as ms\n",
    "\n",
    "class Net(nn.Cell):\n",
    "    \"\"\"Feedforward network model\"\"\"\n",
    "\n",
    "    def __init__(self):\n",
    "        super(Net, self).__init__()\n",
    "        self.sin = ops.Sin()\n",
    "\n",
    "    def construct(self, x):\n",
    "        out = self.sin(x)\n",
    "        return out\n",
    "\n",
    "x_train = ms.Tensor(np.array([3.1415926]), dtype=ms.float32)\n",
    "\n",
    "net = Net()\n",
    "firstgrad = ms.grad(net)\n",
    "secondgrad = ms.grad(firstgrad)\n",
    "output = secondgrad(x_train)\n",
    "\n",
    "# Print the result.\n",
    "result = np.around(output.asnumpy(), decimals=2)\n",
    "print(result)"
   ]
  },
  {
   "cell_type": "code",
   "execution_count": 109,
   "id": "43b5fb88",
   "metadata": {},
   "outputs": [
    {
     "name": "stdout",
     "output_type": "stream",
     "text": [
      "[1.]\n"
     ]
    }
   ],
   "source": [
    "import numpy as np\n",
    "import mindspore.nn as nn\n",
    "import mindspore.ops as ops\n",
    "import mindspore as ms\n",
    "\n",
    "class Net(nn.Cell):\n",
    "    \"\"\"Feedforward network model\"\"\"\n",
    "    def __init__(self):\n",
    "        super(Net, self).__init__()\n",
    "        self.sin = ops.Sin()\n",
    "        self.cos = ops.Cos()\n",
    "\n",
    "    def construct(self, x):\n",
    "        out1 = self.sin(x)\n",
    "        out2 = self.cos(x)\n",
    "        return out1, out2\n",
    "\n",
    "x_train = ms.Tensor(np.array([3.1415926]), dtype=ms.float32)\n",
    "\n",
    "net = Net()\n",
    "firstgrad = ms.grad(net)\n",
    "secondgrad = ms.grad(firstgrad)\n",
    "output = secondgrad(x_train)\n",
    "\n",
    "# Print the result.\n",
    "result = np.around(output.asnumpy(), decimals=2)\n",
    "print(result)"
   ]
  },
  {
   "cell_type": "code",
   "execution_count": 110,
   "id": "17049889",
   "metadata": {},
   "outputs": [
    {
     "name": "stdout",
     "output_type": "stream",
     "text": [
      "[1.]\n",
      "[-1.]\n"
     ]
    }
   ],
   "source": [
    "import numpy as np\n",
    "import mindspore.nn as nn\n",
    "import mindspore.ops as ops\n",
    "import mindspore as ms\n",
    "\n",
    "class Net(nn.Cell):\n",
    "    \"\"\"Feedforward network model\"\"\"\n",
    "    def __init__(self):\n",
    "        super(Net, self).__init__()\n",
    "        self.sin = ops.Sin()\n",
    "        self.cos = ops.Cos()\n",
    "\n",
    "    def construct(self, x, y):\n",
    "        out1 = self.sin(x) - self.cos(y)\n",
    "        out2 = self.cos(x) - self.sin(y)\n",
    "        return out1, out2\n",
    "\n",
    "x_train = ms.Tensor(np.array([3.1415926]), dtype=ms.float32)\n",
    "y_train = ms.Tensor(np.array([3.1415926]), dtype=ms.float32)\n",
    "\n",
    "net = Net()\n",
    "firstgrad = ms.grad(net, grad_position=(0, 1))\n",
    "secondgrad = ms.grad(firstgrad, grad_position=(0, 1))\n",
    "output = secondgrad(x_train, y_train)\n",
    "\n",
    "# Print the result.\n",
    "print(np.around(output[0].asnumpy(), decimals=2))\n",
    "print(np.around(output[1].asnumpy(), decimals=2))"
   ]
  },
  {
   "cell_type": "markdown",
   "id": "1b3d9a2b",
   "metadata": {},
   "source": [
    "## Computational Graph"
   ]
  },
  {
   "cell_type": "code",
   "execution_count": 111,
   "id": "886d61eb",
   "metadata": {},
   "outputs": [],
   "source": [
    "import mindspore as ms\n",
    "\n",
    "ms.set_context(mode=ms.PYNATIVE_MODE)"
   ]
  },
  {
   "cell_type": "code",
   "execution_count": 112,
   "id": "b5b58584",
   "metadata": {},
   "outputs": [],
   "source": [
    "import numpy as np\n",
    "from mindspore import nn\n",
    "from mindspore import ops\n",
    "from mindspore import Tensor, Parameter\n",
    "\n",
    "class Network(nn.Cell):\n",
    "    def __init__(self):\n",
    "        super().__init__()\n",
    "        self.w = Parameter(Tensor(np.random.randn(5, 3), ms.float32), name='w') # weight\n",
    "        self.b = Parameter(Tensor(np.random.randn(3,), ms.float32), name='b') # bias\n",
    "\n",
    "    def construct(self, x):\n",
    "        out = ops.matmul(x, self.w)\n",
    "        print('matmul: ', out)\n",
    "        out = out + self.b\n",
    "        print('add bias: ', out)\n",
    "        return out\n",
    "\n",
    "model = Network()"
   ]
  },
  {
   "cell_type": "code",
   "execution_count": 113,
   "id": "41e92e96",
   "metadata": {},
   "outputs": [
    {
     "name": "stdout",
     "output_type": "stream",
     "text": [
      "matmul:  [-1.0864961  2.102003  -2.9060817]\n",
      "add bias:  [-2.624806   1.3051174 -2.8831785]\n",
      "out:  [-2.624806   1.3051174 -2.8831785]\n"
     ]
    }
   ],
   "source": [
    "x = ops.ones(5, ms.float32)  # input tensor\n",
    "out = model(x)\n",
    "print('out: ', out)"
   ]
  },
  {
   "cell_type": "code",
   "execution_count": 114,
   "id": "3cd9f2d0",
   "metadata": {},
   "outputs": [],
   "source": [
    "ms.set_context(mode=ms.GRAPH_MODE)"
   ]
  },
  {
   "cell_type": "code",
   "execution_count": 115,
   "id": "2e6c1678",
   "metadata": {},
   "outputs": [
    {
     "name": "stdout",
     "output_type": "stream",
     "text": [
      "out:  [ 1.5335879  -1.4819053   0.32803032]\n"
     ]
    },
    {
     "name": "stderr",
     "output_type": "stream",
     "text": [
      "[WARNING] ANALYZER(1336,7f75993af740,python):2023-04-25-15:35:57.377.804 [mindspore/ccsrc/pipeline/jit/static_analysis/auto_monad.cc:926] TraceEffectInfo] EffectInfo untraceable: node is a nullptr.\n"
     ]
    }
   ],
   "source": [
    "model = Network()\n",
    "\n",
    "model.compile(x)\n",
    "out = model(x)\n",
    "print('out: ', out)"
   ]
  },
  {
   "cell_type": "code",
   "execution_count": 116,
   "id": "c1d9c27a",
   "metadata": {},
   "outputs": [],
   "source": [
    "import mindspore as ms\n",
    "from mindspore import nn\n",
    "\n",
    "class Network(nn.Cell):\n",
    "    def __init__(self):\n",
    "        super().__init__()\n",
    "        self.fc = nn.Dense(10, 1)\n",
    "\n",
    "    @ms.jit\n",
    "    def construct(self, x):\n",
    "        return self.fc(x)"
   ]
  },
  {
   "cell_type": "code",
   "execution_count": 117,
   "id": "708f3aa9",
   "metadata": {},
   "outputs": [],
   "source": [
    "@ms.jit\n",
    "def mul(x, y):\n",
    "    return x * y"
   ]
  },
  {
   "cell_type": "code",
   "execution_count": 118,
   "id": "d153b306",
   "metadata": {},
   "outputs": [],
   "source": [
    "network = nn.Dense(10, 1)\n",
    "loss_fn = nn.BCELoss()\n",
    "optimizer = nn.Adam(network.trainable_params(), 0.01)\n",
    "\n",
    "def forward_fn(data, label):\n",
    "    logits = network(data)\n",
    "    loss = loss_fn(logits, label)\n",
    "    return loss\n",
    "\n",
    "grad_fn = ms.value_and_grad(forward_fn, None, optimizer.parameters)\n",
    "\n",
    "@ms.jit\n",
    "def train_step(data, label):\n",
    "    loss, grads = grad_fn(data, label)\n",
    "    optimizer(grads)\n",
    "    return loss"
   ]
  },
  {
   "cell_type": "code",
   "execution_count": 119,
   "id": "8a66e86d",
   "metadata": {},
   "outputs": [],
   "source": [
    "train_step = ms.jit(train_step)"
   ]
  },
  {
   "cell_type": "code",
   "execution_count": null,
   "id": "4356d7b1",
   "metadata": {},
   "outputs": [],
   "source": []
  }
 ],
 "metadata": {
  "kernelspec": {
   "display_name": "Python 3 (ipykernel)",
   "language": "python",
   "name": "python3"
  },
  "language_info": {
   "codemirror_mode": {
    "name": "ipython",
    "version": 3
   },
   "file_extension": ".py",
   "mimetype": "text/x-python",
   "name": "python",
   "nbconvert_exporter": "python",
   "pygments_lexer": "ipython3",
   "version": "3.8.10"
  }
 },
 "nbformat": 4,
 "nbformat_minor": 5
}
